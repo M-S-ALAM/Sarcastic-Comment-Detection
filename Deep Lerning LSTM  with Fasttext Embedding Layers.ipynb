{
 "cells": [
  {
   "cell_type": "markdown",
   "id": "f021b67e",
   "metadata": {
    "id": "f021b67e"
   },
   "source": [
    "## Deep Learning"
   ]
  },
  {
   "cell_type": "code",
   "execution_count": 1,
   "id": "4cebb9e8",
   "metadata": {
    "id": "4cebb9e8"
   },
   "outputs": [],
   "source": [
    "%matplotlib inline\n",
    "import warnings\n",
    "warnings.filterwarnings('ignore')\n",
    "import sqlite3\n",
    "import pandas as pd\n",
    "import numpy as np\n",
    "import nltk\n",
    "import string\n",
    "import matplotlib.pyplot as plt\n",
    "import seaborn as sns\n",
    "from sklearn.feature_extraction.text import TfidfTransformer\n",
    "from sklearn.feature_extraction.text import TfidfVectorizer\n",
    "\n",
    "from sklearn.feature_extraction.text import CountVectorizer\n",
    "from sklearn.metrics import confusion_matrix\n",
    "from sklearn import metrics\n",
    "from sklearn.metrics import roc_curve, auc\n",
    "from nltk.stem.porter import PorterStemmer\n",
    "import re\n",
    "from nltk.corpus import stopwords\n",
    "from nltk.stem import PorterStemmer\n",
    "from nltk.stem.wordnet import WordNetLemmatizer\n",
    "from gensim.models import Word2Vec\n",
    "from gensim.models import KeyedVectors\n",
    "import pickle\n",
    "from sklearn.metrics import roc_auc_score\n",
    "from tqdm import tqdm\n",
    "import os\n",
    "#from plotly import plotly\n",
    "#import plotly.offline as offline\n",
    "#import plotly.graph_objs as go\n",
    "#offline.init_notebook_mode()\n",
    "from collections import Counter\n",
    "from sklearn.preprocessing import StandardScaler\n",
    "from sklearn.preprocessing import MinMaxScaler\n",
    "import tensorflow as tf\n",
    "from tensorflow.keras.preprocessing import sequence\n",
    "from tensorflow.keras.models import Sequential\n",
    "from tensorflow.keras.layers import Dense, Activation,Flatten,Reshape\n",
    "from tensorflow.keras.layers import Embedding\n",
    "from tensorflow.keras.layers import LSTM\n",
    "from tensorflow.keras.preprocessing.text import Tokenizer\n",
    "import csv\n",
    "from tensorflow.keras.models import Model\n",
    "#import keras\n",
    "from tensorflow.keras import backend as k\n",
    "from tensorflow.keras.layers import Input,Concatenate,Dropout,Dense,BatchNormalization,Conv1D\n",
    "from tensorflow.keras.layers import Input\n",
    "from sklearn.preprocessing import LabelEncoder,OneHotEncoder\n",
    "#from tensorflow.keras.merge import concatenate\n",
    "#import tensorflow as tf\n",
    "from tensorflow.keras.preprocessing.sequence import pad_sequences\n",
    "import scipy\n",
    "from tensorflow.keras.initializers import he_normal,glorot_normal\n",
    "from tensorflow.keras.regularizers import l1,l2\n",
    "from tensorflow.python.keras.callbacks import TensorBoard\n",
    "from tensorflow.keras.callbacks import Callback, EarlyStopping, ModelCheckpoint,LearningRateScheduler,ReduceLROnPlateau\n",
    "from time import time\n",
    "from tensorflow.keras.utils import plot_model"
   ]
  },
  {
   "cell_type": "code",
   "execution_count": 3,
   "id": "oMppRTPvX9EZ",
   "metadata": {
    "colab": {
     "base_uri": "https://localhost:8080/"
    },
    "id": "oMppRTPvX9EZ",
    "outputId": "717ce78b-bc5e-4dd9-880b-53591a24d9ca"
   },
   "outputs": [
    {
     "name": "stdout",
     "output_type": "stream",
     "text": [
      "Mounted at /content/gdrive\n"
     ]
    }
   ],
   "source": [
    "from google.colab import drive\n",
    "drive.mount('/content/gdrive')"
   ]
  },
  {
   "cell_type": "code",
   "execution_count": 12,
   "id": "d4517a18",
   "metadata": {
    "colab": {
     "base_uri": "https://localhost:8080/",
     "height": 285
    },
    "id": "d4517a18",
    "outputId": "8ce2be88-fb6c-4237-8a3e-ae93ca345443"
   },
   "outputs": [
    {
     "data": {
      "text/html": [
       "<div>\n",
       "<style scoped>\n",
       "    .dataframe tbody tr th:only-of-type {\n",
       "        vertical-align: middle;\n",
       "    }\n",
       "\n",
       "    .dataframe tbody tr th {\n",
       "        vertical-align: top;\n",
       "    }\n",
       "\n",
       "    .dataframe thead th {\n",
       "        text-align: right;\n",
       "    }\n",
       "</style>\n",
       "<table border=\"1\" class=\"dataframe\">\n",
       "  <thead>\n",
       "    <tr style=\"text-align: right;\">\n",
       "      <th></th>\n",
       "      <th>label</th>\n",
       "      <th>comment</th>\n",
       "      <th>author</th>\n",
       "      <th>subreddit</th>\n",
       "      <th>score</th>\n",
       "      <th>ups</th>\n",
       "      <th>downs</th>\n",
       "      <th>date</th>\n",
       "      <th>created_utc</th>\n",
       "      <th>parent_comment</th>\n",
       "    </tr>\n",
       "  </thead>\n",
       "  <tbody>\n",
       "    <tr>\n",
       "      <th>0</th>\n",
       "      <td>0</td>\n",
       "      <td>NC and NH.</td>\n",
       "      <td>Trumpbart</td>\n",
       "      <td>politics</td>\n",
       "      <td>2</td>\n",
       "      <td>-1</td>\n",
       "      <td>-1</td>\n",
       "      <td>2016-10</td>\n",
       "      <td>2016-10-16 23:55:23</td>\n",
       "      <td>Yeah, I get that argument. At this point, I'd ...</td>\n",
       "    </tr>\n",
       "    <tr>\n",
       "      <th>1</th>\n",
       "      <td>0</td>\n",
       "      <td>You do know west teams play against west teams...</td>\n",
       "      <td>Shbshb906</td>\n",
       "      <td>nba</td>\n",
       "      <td>-4</td>\n",
       "      <td>-1</td>\n",
       "      <td>-1</td>\n",
       "      <td>2016-11</td>\n",
       "      <td>2016-11-01 00:24:10</td>\n",
       "      <td>The blazers and Mavericks (The wests 5 and 6 s...</td>\n",
       "    </tr>\n",
       "    <tr>\n",
       "      <th>2</th>\n",
       "      <td>0</td>\n",
       "      <td>They were underdogs earlier today, but since G...</td>\n",
       "      <td>Creepeth</td>\n",
       "      <td>nfl</td>\n",
       "      <td>3</td>\n",
       "      <td>3</td>\n",
       "      <td>0</td>\n",
       "      <td>2016-09</td>\n",
       "      <td>2016-09-22 21:45:37</td>\n",
       "      <td>They're favored to win.</td>\n",
       "    </tr>\n",
       "    <tr>\n",
       "      <th>3</th>\n",
       "      <td>0</td>\n",
       "      <td>This meme isn't funny none of the \"new york ni...</td>\n",
       "      <td>icebrotha</td>\n",
       "      <td>BlackPeopleTwitter</td>\n",
       "      <td>-8</td>\n",
       "      <td>-1</td>\n",
       "      <td>-1</td>\n",
       "      <td>2016-10</td>\n",
       "      <td>2016-10-18 21:03:47</td>\n",
       "      <td>deadass don't kill my buzz</td>\n",
       "    </tr>\n",
       "    <tr>\n",
       "      <th>4</th>\n",
       "      <td>0</td>\n",
       "      <td>I could use one of those tools.</td>\n",
       "      <td>cush2push</td>\n",
       "      <td>MaddenUltimateTeam</td>\n",
       "      <td>6</td>\n",
       "      <td>-1</td>\n",
       "      <td>-1</td>\n",
       "      <td>2016-12</td>\n",
       "      <td>2016-12-30 17:00:13</td>\n",
       "      <td>Yep can confirm I saw the tool they use for th...</td>\n",
       "    </tr>\n",
       "  </tbody>\n",
       "</table>\n",
       "</div>"
      ],
      "text/plain": [
       "   label  ...                                     parent_comment\n",
       "0      0  ...  Yeah, I get that argument. At this point, I'd ...\n",
       "1      0  ...  The blazers and Mavericks (The wests 5 and 6 s...\n",
       "2      0  ...                            They're favored to win.\n",
       "3      0  ...                         deadass don't kill my buzz\n",
       "4      0  ...  Yep can confirm I saw the tool they use for th...\n",
       "\n",
       "[5 rows x 10 columns]"
      ]
     },
     "execution_count": 12,
     "metadata": {},
     "output_type": "execute_result"
    }
   ],
   "source": [
    "import pandas as pd\n",
    "data=pd.read_csv('/content/gdrive/MyDrive/train-balanced-sarcasm.csv')\n",
    "data.head()"
   ]
  },
  {
   "cell_type": "code",
   "execution_count": 13,
   "id": "92cf57b9",
   "metadata": {
    "colab": {
     "base_uri": "https://localhost:8080/"
    },
    "id": "92cf57b9",
    "outputId": "e3f87c7a-67af-49d5-8ad8-c1ba7afa709c"
   },
   "outputs": [
    {
     "data": {
      "text/plain": [
       "label              0\n",
       "comment           53\n",
       "author             0\n",
       "subreddit          0\n",
       "score              0\n",
       "ups                0\n",
       "downs              0\n",
       "date               0\n",
       "created_utc        0\n",
       "parent_comment     0\n",
       "dtype: int64"
      ]
     },
     "execution_count": 13,
     "metadata": {},
     "output_type": "execute_result"
    }
   ],
   "source": [
    "data.isnull().sum()"
   ]
  },
  {
   "cell_type": "code",
   "execution_count": 14,
   "id": "93f31ddc",
   "metadata": {
    "id": "93f31ddc"
   },
   "outputs": [],
   "source": [
    "data['comment']=data['comment'].fillna('No Comment')"
   ]
  },
  {
   "cell_type": "code",
   "execution_count": 15,
   "id": "79af9648",
   "metadata": {
    "id": "79af9648"
   },
   "outputs": [],
   "source": [
    "# Remove Emoji\n",
    "def deEmojify(text):\n",
    "    regrex_pattern = re.compile(pattern = \"[\"\n",
    "        u\"\\U0001F600-\\U0001F64F\"  # emoticons\n",
    "        u\"\\U0001F300-\\U0001F5FF\"  # symbols & pictographs\n",
    "        u\"\\U0001F680-\\U0001F6FF\"  # transport & map symbols\n",
    "        u\"\\U0001F1E0-\\U0001F1FF\"  # flags (iOS)\n",
    "                           \"]+\", flags = re.UNICODE)\n",
    "    return regrex_pattern.sub(r'',text)"
   ]
  },
  {
   "cell_type": "code",
   "execution_count": 16,
   "id": "6ff6919c",
   "metadata": {
    "id": "6ff6919c"
   },
   "outputs": [],
   "source": [
    "def decontractions(phrase):\n",
    "    \"\"\"decontracted takes text and convert contractions into natural form.\n",
    "     ref: https://stackoverflow.com/questions/19790188/expanding-english-language-contractions-in-python/47091490#47091490\"\"\"\n",
    "    # specific\n",
    "    phrase = re.sub(r\"won\\'t\", \"will not\", phrase)\n",
    "    phrase = re.sub(r\"can\\'t\", \"can not\", phrase)\n",
    "    phrase = re.sub(r\"won\\’t\", \"will not\", phrase)\n",
    "    phrase = re.sub(r\"can\\’t\", \"can not\", phrase)\n",
    "\n",
    "    # general\n",
    "    phrase = re.sub(r\"n\\'t\", \" not\", phrase)\n",
    "    phrase = re.sub(r\"\\'re\", \" are\", phrase)\n",
    "    phrase = re.sub(r\"\\'s\", \" is\", phrase)\n",
    "    phrase = re.sub(r\"\\'d\", \" would\", phrase)\n",
    "    phrase = re.sub(r\"\\'ll\", \" will\", phrase)\n",
    "    phrase = re.sub(r\"\\'t\", \" not\", phrase)\n",
    "    phrase = re.sub(r\"\\'ve\", \" have\", phrase)\n",
    "    phrase = re.sub(r\"\\'m\", \" am\", phrase)\n",
    "\n",
    "    phrase = re.sub(r\"n\\’t\", \" not\", phrase)\n",
    "    phrase = re.sub(r\"\\’re\", \" are\", phrase)\n",
    "    phrase = re.sub(r\"\\’s\", \" is\", phrase)\n",
    "    phrase = re.sub(r\"\\’d\", \" would\", phrase)\n",
    "    phrase = re.sub(r\"\\’ll\", \" will\", phrase)\n",
    "    phrase = re.sub(r\"\\’t\", \" not\", phrase)\n",
    "    phrase = re.sub(r\"\\’ve\", \" have\", phrase)\n",
    "    phrase = re.sub(r\"\\’m\", \" am\", phrase)\n",
    "\n",
    "    return phrase"
   ]
  },
  {
   "cell_type": "code",
   "execution_count": 17,
   "id": "Zk8aWj1KYb8L",
   "metadata": {
    "colab": {
     "base_uri": "https://localhost:8080/"
    },
    "id": "Zk8aWj1KYb8L",
    "outputId": "a21be160-9a96-4f69-fc58-3fd8c2d45330"
   },
   "outputs": [
    {
     "name": "stdout",
     "output_type": "stream",
     "text": [
      "[nltk_data] Downloading package stopwords to /root/nltk_data...\n",
      "[nltk_data]   Package stopwords is already up-to-date!\n"
     ]
    },
    {
     "data": {
      "text/plain": [
       "True"
      ]
     },
     "execution_count": 17,
     "metadata": {},
     "output_type": "execute_result"
    }
   ],
   "source": [
    "import nltk\n",
    "nltk.download('stopwords')"
   ]
  },
  {
   "cell_type": "code",
   "execution_count": 18,
   "id": "d1832119",
   "metadata": {
    "id": "d1832119"
   },
   "outputs": [],
   "source": [
    "from nltk.corpus import stopwords\n",
    "from tqdm import tqdm\n",
    "import re\n",
    "stopwords = stopwords.words('english')\n",
    "def preprocess(text_col,stopword):\n",
    "    preprocessed = []\n",
    "    for sentence in tqdm(text_col.values):\n",
    "        # Replace \"carriage return\" with \"space\".\n",
    "        sentence=str(sentence)\n",
    "        sent = sentence.replace('\\\\r', ' ')\n",
    "        # Replace \"quotes\" with \"space\".\n",
    "        sent = sent.replace('\\\\\"', ' ')\n",
    "        # Replace \"line feed\" with \"space\".\n",
    "        sent = sent.replace('\\\\n', ' ')\n",
    "        # Replace characters between words with \"space\".\n",
    "        sent = re.sub('[^A-Za-z0-9]+', ' ', sent)\n",
    "        #remove stop words\n",
    "        #decontraction\n",
    "        sent=decontractions(sent)\n",
    "        #Remove emoji\n",
    "        sent=deEmojify(sent)\n",
    "        if stopword:\n",
    "            sent = ' '.join(e for e in sent.split() if e not in stopwords)\n",
    "        else:\n",
    "           sent = ' '.join(e for e in sent.split())\n",
    "        # to lowercase\n",
    "        preprocessed.append(sent.lower().strip())\n",
    "    return preprocessed"
   ]
  },
  {
   "cell_type": "code",
   "execution_count": 19,
   "id": "7c7a5327",
   "metadata": {
    "colab": {
     "base_uri": "https://localhost:8080/"
    },
    "id": "7c7a5327",
    "outputId": "6a935118-ff0d-4cb4-faf1-1f531654924b"
   },
   "outputs": [
    {
     "name": "stderr",
     "output_type": "stream",
     "text": [
      "100%|██████████| 1010826/1010826 [00:27<00:00, 37316.42it/s]\n"
     ]
    }
   ],
   "source": [
    "data['comment']=preprocess(data['comment'],stopword=False)"
   ]
  },
  {
   "cell_type": "code",
   "execution_count": 20,
   "id": "317c0268",
   "metadata": {
    "colab": {
     "base_uri": "https://localhost:8080/"
    },
    "id": "317c0268",
    "outputId": "db41bbe3-229a-4b04-f024-5a9ab853d4fa"
   },
   "outputs": [
    {
     "name": "stderr",
     "output_type": "stream",
     "text": [
      "100%|██████████| 1010826/1010826 [00:34<00:00, 29144.87it/s]\n"
     ]
    }
   ],
   "source": [
    "data['parent_comment']=preprocess(data['parent_comment'],stopword=False)"
   ]
  },
  {
   "cell_type": "code",
   "execution_count": 21,
   "id": "2eba4c80",
   "metadata": {
    "colab": {
     "base_uri": "https://localhost:8080/"
    },
    "id": "2eba4c80",
    "outputId": "7fade6d3-10f9-4b0b-d83c-9742e13aa1a2"
   },
   "outputs": [
    {
     "data": {
      "text/plain": [
       "label             0\n",
       "comment           0\n",
       "author            0\n",
       "subreddit         0\n",
       "score             0\n",
       "ups               0\n",
       "downs             0\n",
       "date              0\n",
       "created_utc       0\n",
       "parent_comment    0\n",
       "dtype: int64"
      ]
     },
     "execution_count": 21,
     "metadata": {},
     "output_type": "execute_result"
    }
   ],
   "source": [
    "data.isnull().sum()"
   ]
  },
  {
   "cell_type": "code",
   "execution_count": 22,
   "id": "bfgb3ize9dyl",
   "metadata": {
    "colab": {
     "base_uri": "https://localhost:8080/"
    },
    "id": "bfgb3ize9dyl",
    "outputId": "3212e998-8745-45f1-cd24-3d6d4ecbc2e1"
   },
   "outputs": [
    {
     "name": "stdout",
     "output_type": "stream",
     "text": [
      "[nltk_data] Downloading package vader_lexicon to /root/nltk_data...\n"
     ]
    },
    {
     "data": {
      "text/plain": [
       "True"
      ]
     },
     "execution_count": 22,
     "metadata": {},
     "output_type": "execute_result"
    }
   ],
   "source": [
    "import nltk\n",
    "nltk.download('vader_lexicon')"
   ]
  },
  {
   "cell_type": "markdown",
   "id": "uUr78WCH97Vi",
   "metadata": {
    "id": "uUr78WCH97Vi"
   },
   "source": [
    "Polarity Score"
   ]
  },
  {
   "cell_type": "code",
   "execution_count": 23,
   "id": "xdXUDWG08mt2",
   "metadata": {
    "id": "xdXUDWG08mt2"
   },
   "outputs": [],
   "source": [
    "import nltk\n",
    "from tqdm import tqdm\n",
    "from nltk.sentiment.vader import SentimentIntensityAnalyzer\n",
    "def generate_sentiment_scores(data):\n",
    "    sid = SentimentIntensityAnalyzer()\n",
    "    neg=[]\n",
    "    pos=[]\n",
    "    neu=[]\n",
    "    comp=[]\n",
    "    for sentence in tqdm(data['parent_comment'].values): \n",
    "        sentence_sentiment_score = sid.polarity_scores(sentence)\n",
    "        comp.append(sentence_sentiment_score['compound'])\n",
    "        neg.append(sentence_sentiment_score['neg'])\n",
    "        pos.append(sentence_sentiment_score['pos'])\n",
    "        neu.append(sentence_sentiment_score['neu'])\n",
    "    return comp,neg,pos,neu"
   ]
  },
  {
   "cell_type": "code",
   "execution_count": 24,
   "id": "0YNG6kBJ9Lt3",
   "metadata": {
    "colab": {
     "base_uri": "https://localhost:8080/"
    },
    "id": "0YNG6kBJ9Lt3",
    "outputId": "c6dea4ee-7c07-45ff-d70d-1a3bad19e320"
   },
   "outputs": [
    {
     "name": "stderr",
     "output_type": "stream",
     "text": [
      "100%|██████████| 1010826/1010826 [04:45<00:00, 3538.73it/s]\n"
     ]
    }
   ],
   "source": [
    "data['compound'],data['negative'],data['positive'],data['neutral']=generate_sentiment_scores(data)"
   ]
  },
  {
   "cell_type": "code",
   "execution_count": 25,
   "id": "xytZ-DUM9ng5",
   "metadata": {
    "id": "xytZ-DUM9ng5"
   },
   "outputs": [],
   "source": [
    "data['com_len']=data['comment'].apply(lambda x:len(x.split()))"
   ]
  },
  {
   "cell_type": "code",
   "execution_count": 26,
   "id": "pQH7iiAd90XH",
   "metadata": {
    "id": "pQH7iiAd90XH"
   },
   "outputs": [],
   "source": [
    "data['parent_com_len']=data['parent_comment'].apply(lambda x:len(x.split()))"
   ]
  },
  {
   "cell_type": "code",
   "execution_count": 27,
   "id": "1Lp2_GVmTUyf",
   "metadata": {
    "id": "1Lp2_GVmTUyf"
   },
   "outputs": [],
   "source": [
    "data['comment']=data['comment']+\" \"+data['author']+\" \"+data['subreddit']"
   ]
  },
  {
   "cell_type": "markdown",
   "id": "f5agCqVRYcvM",
   "metadata": {
    "id": "f5agCqVRYcvM"
   },
   "source": []
  },
  {
   "cell_type": "code",
   "execution_count": 28,
   "id": "uGptC5k7YYkq",
   "metadata": {
    "colab": {
     "base_uri": "https://localhost:8080/"
    },
    "id": "uGptC5k7YYkq",
    "outputId": "6e84412e-aa42-4aec-b2b8-a2758b3c6615"
   },
   "outputs": [
    {
     "data": {
      "text/plain": [
       "(1010826, 2)"
      ]
     },
     "execution_count": 28,
     "metadata": {},
     "output_type": "execute_result"
    }
   ],
   "source": [
    "labels=tf.keras.utils.to_categorical(data['label'].values,num_classes=2)\n",
    "labels.shape"
   ]
  },
  {
   "cell_type": "code",
   "execution_count": 29,
   "id": "0e968b68",
   "metadata": {
    "id": "0e968b68"
   },
   "outputs": [],
   "source": [
    "y=data['label']\n",
    "X=data.drop(['label','date','created_utc'],axis=1)"
   ]
  },
  {
   "cell_type": "code",
   "execution_count": 30,
   "id": "2477ed82",
   "metadata": {
    "id": "2477ed82"
   },
   "outputs": [],
   "source": [
    "from sklearn.model_selection import train_test_split\n",
    "X_train,X_test,y_train,y_test=train_test_split(X,labels,test_size=0.3,random_state=42,stratify=labels)"
   ]
  },
  {
   "cell_type": "code",
   "execution_count": 31,
   "id": "_Yr8Sp6QTljG",
   "metadata": {
    "id": "_Yr8Sp6QTljG"
   },
   "outputs": [],
   "source": [
    "def pad_text(text,tokenizer,max_len):\n",
    "    return pad_sequences(tokenizer.texts_to_sequences(text),maxlen=max_len,padding='post')"
   ]
  },
  {
   "cell_type": "code",
   "execution_count": 32,
   "id": "GSqTXmvhTsnw",
   "metadata": {
    "id": "GSqTXmvhTsnw"
   },
   "outputs": [],
   "source": [
    "from tensorflow.keras.preprocessing.text import Tokenizer\n",
    "def text_padding(train,test,max_len):\n",
    "    vocab=5000\n",
    "    token=Tokenizer()\n",
    "    token.fit_on_texts(train)\n",
    "    padded_train_text=pad_text(train,token,max_len)\n",
    "    padded_test_text=pad_text(test,token,max_len)\n",
    "    return padded_train_text,padded_test_text,token"
   ]
  },
  {
   "cell_type": "code",
   "execution_count": 33,
   "id": "kHEDlj7BTw59",
   "metadata": {
    "id": "kHEDlj7BTw59"
   },
   "outputs": [],
   "source": [
    "comm_len=200\n",
    "train_com_pad,test_com_pad,token_com= text_padding(X_train['comment'],X_test['comment'],comm_len)"
   ]
  },
  {
   "cell_type": "code",
   "execution_count": 34,
   "id": "cm6FNbSTUEkr",
   "metadata": {
    "colab": {
     "base_uri": "https://localhost:8080/"
    },
    "id": "cm6FNbSTUEkr",
    "outputId": "99c3fb13-420a-4b4e-ce72-58cdd6dfffca"
   },
   "outputs": [
    {
     "name": "stdout",
     "output_type": "stream",
     "text": [
      "(707578, 200) (303248, 200)\n"
     ]
    }
   ],
   "source": [
    "print(train_com_pad.shape,test_com_pad.shape)"
   ]
  },
  {
   "cell_type": "code",
   "execution_count": 35,
   "id": "LOzZ1pFbUQ4x",
   "metadata": {
    "id": "LOzZ1pFbUQ4x"
   },
   "outputs": [],
   "source": [
    "par_comm_len=200\n",
    "train_par_com_pad,test_par_com_pad,token_par= text_padding(X_train['parent_comment'],X_test['parent_comment'],par_comm_len)"
   ]
  },
  {
   "cell_type": "code",
   "execution_count": 36,
   "id": "fhuS_ELwUfXr",
   "metadata": {
    "colab": {
     "base_uri": "https://localhost:8080/"
    },
    "id": "fhuS_ELwUfXr",
    "outputId": "7fab3037-bcb6-45e0-e069-bca1c864e4b4"
   },
   "outputs": [
    {
     "name": "stdout",
     "output_type": "stream",
     "text": [
      "(707578, 200) (303248, 200)\n"
     ]
    }
   ],
   "source": [
    "print(train_par_com_pad.shape,test_par_com_pad.shape)"
   ]
  },
  {
   "cell_type": "code",
   "execution_count": 60,
   "id": "3hAcicV2E85v",
   "metadata": {
    "id": "3hAcicV2E85v"
   },
   "outputs": [],
   "source": [
    "def generate_embedding_matrix(token):\n",
    "    embedding_path='/content/gdrive/MyDrive/crawl-300d-2M.vec'\n",
    "    embedding_size=300\n",
    "    vocab_size=5000\n",
    "    embedding_index={}\n",
    "    with open(embedding_path, 'r') as f:\n",
    "         for line in f:\n",
    "             values = line.rstrip().rsplit(' ')\n",
    "             word = values[0]\n",
    "             coefs = np.asarray(values[1:], dtype='float32')\n",
    "             embedding_index[word] = coefs\n",
    "    num_words = len(token.word_index) + 1\n",
    "    embedding_matrix = np.zeros((num_words, embedding_size))\n",
    "    for word, i in token.word_index.items():\n",
    "       embedding_vector = embedding_index.get(word)\n",
    "       if embedding_vector is not None:\n",
    "        # words not found in embedding index will be all-zeros.\n",
    "          embedding_matrix[i] = embedding_vector\n",
    "    return embedding_matrix"
   ]
  },
  {
   "cell_type": "code",
   "execution_count": 61,
   "id": "S4SMjwZ0FYho",
   "metadata": {
    "colab": {
     "base_uri": "https://localhost:8080/"
    },
    "id": "S4SMjwZ0FYho",
    "outputId": "8b912286-36a3-419b-b2f7-b0edb8981a29"
   },
   "outputs": [
    {
     "name": "stdout",
     "output_type": "stream",
     "text": [
      "(362500, 300) (189737, 300)\n"
     ]
    }
   ],
   "source": [
    "embedding_comm = generate_embedding_matrix(token_com)\n",
    "embedding_P_comm = generate_embedding_matrix(token_par)\n",
    "print(embedding_comm.shape,embedding_P_comm.shape)"
   ]
  },
  {
   "cell_type": "code",
   "execution_count": 39,
   "id": "S21VTBGZlxF5",
   "metadata": {
    "colab": {
     "base_uri": "https://localhost:8080/"
    },
    "id": "S21VTBGZlxF5",
    "outputId": "7a2cdb72-9f90-477b-96bb-0d8448b41773"
   },
   "outputs": [
    {
     "name": "stdout",
     "output_type": "stream",
     "text": [
      "[-0.0858     -0.0891      0.36210001  0.1354      0.0328     -0.0401\n",
      " -0.1109      0.15270001  0.0579     -0.066       0.146       0.1631\n",
      "  0.019      -0.1365     -0.0306     -0.149      -0.0703     -0.1155\n",
      " -0.0633      0.0541      0.1996      0.0136     -0.19670001  0.0767\n",
      "  0.1056     -0.19329999  0.21359999  0.1129      0.0035      0.1137\n",
      " -0.1462     -0.0073      0.16670001 -0.0324     -0.0151     -0.25780001\n",
      "  0.1355      0.0447      0.0254      0.0636      0.0046      0.60579997\n",
      "  0.0593      0.2617     -0.0703      0.1794      0.0162      0.0687\n",
      " -0.0143      0.4391      0.1102     -0.4725      0.639       0.1205\n",
      " -0.0424      0.0464     -0.0264     -0.0834     -0.0796      0.0671\n",
      " -0.0557     -0.26249999 -0.0105     -0.24439999  0.091       0.1649\n",
      "  0.0192     -0.1514      0.0257     -0.24590001 -0.16230001  0.0352\n",
      "  0.0938      0.3082      0.0809     -0.2626     -0.75919998 -0.0895\n",
      "  0.1867     -0.0548      0.47150001  0.0264     -0.0358     -0.1159\n",
      " -0.1213     -0.0519      0.0918      0.0156     -0.0608     -0.0452\n",
      "  0.1         0.1847      0.1161     -0.0391      0.0893     -0.1211\n",
      " -0.23989999 -0.0486      0.0053      0.0595     -0.0846     -0.1689\n",
      " -0.0023     -0.1039      0.1224     -0.28259999 -0.0288     -0.219\n",
      "  0.0138      0.033       0.0918     -0.33919999  0.0819      0.1196\n",
      " -0.3064     -0.1409      0.1462     -0.111       0.1205     -0.0536\n",
      "  0.0824     -0.1471     -0.3136      0.176      -0.19589999  0.0469\n",
      " -0.0471     -0.091      -0.38299999 -0.0124     -0.0675     -0.0477\n",
      "  0.15459999  0.085       0.206       0.0816     -0.26100001  0.1529\n",
      "  0.1611     -0.69450003 -0.2529      0.2042      0.0903      0.20200001\n",
      " -0.0696      0.0118     -0.0153      0.1886      0.0804     -0.0106\n",
      " -0.0261     -0.0047      0.1073     -0.14129999  0.0213      0.1097\n",
      " -0.15970001 -0.1086      0.13330001 -0.0563      0.57309997  0.021\n",
      "  0.0473     -0.0224      0.1987     -0.17120001 -0.0036     -0.18269999\n",
      "  0.1107     -0.25580001  0.0266      0.20200001 -0.0336     -0.0917\n",
      " -0.0907     -0.0535      0.0158     -0.0889      0.011       0.1093\n",
      "  0.30180001 -0.2103     -0.0226     -0.0432      0.0852     -0.13510001\n",
      "  0.0786     -0.1847     -0.2122     -0.15369999  0.1869     -0.0586\n",
      " -0.0911     -0.1075      0.0754      0.0214      0.0284     -0.0172\n",
      " -0.12549999 -0.2316     -0.0455     -0.0644      0.153      -0.1114\n",
      " -0.004      -0.028       0.012      -0.1049     -0.0591     -0.1137\n",
      "  0.1006      0.47940001  0.0449      0.1027      0.0729     -0.2252\n",
      " -0.16670001  0.1436      0.0596     -0.0392     -0.1454      0.1374\n",
      "  0.0309     -0.1578     -0.0242     -0.0876     -0.0653      0.0601\n",
      "  0.0375      0.0136      0.0196      0.0143     -0.0506      0.0672\n",
      " -0.0649      0.0933     -0.0217     -0.1913      0.0772     -0.0196\n",
      "  0.1147      0.0556     -0.1453      0.0381     -0.1188     -0.1047\n",
      "  0.1184      0.0443      0.0394      0.0966     -0.0713      0.0318\n",
      "  0.0863     -0.0665     -0.1737     -0.0642      0.1574      0.0635\n",
      "  0.048       0.1026     -0.0065      0.0452      0.0814     -0.16159999\n",
      "  0.0535      0.0502     -0.0341     -0.17        0.0715     -0.02\n",
      "  0.14569999 -0.0368     -0.18089999  0.1627      0.0287     -0.1692\n",
      "  0.1154     -0.0398     -0.0058      0.31959999  0.0089     -0.19670001\n",
      "  0.009       0.0187     -0.0596     -0.0099      0.0053     -0.0078\n",
      "  0.0903      0.1038     -0.0705      0.1137      0.1771      0.1205\n",
      " -0.063      -0.2615      0.0813     -0.0425     -0.0671      0.028     ]\n"
     ]
    }
   ],
   "source": [
    "print(embedding_comm[5])"
   ]
  },
  {
   "cell_type": "code",
   "execution_count": 40,
   "id": "567f61bd",
   "metadata": {
    "colab": {
     "base_uri": "https://localhost:8080/"
    },
    "id": "567f61bd",
    "outputId": "86dbd4a0-ad2e-4c12-d8bb-97091584c87c"
   },
   "outputs": [
    {
     "name": "stdout",
     "output_type": "stream",
     "text": [
      "CPU times: user 13.7 ms, sys: 1.03 ms, total: 14.7 ms\n",
      "Wall time: 14.4 ms\n"
     ]
    }
   ],
   "source": [
    "%%time\n",
    "from sklearn.preprocessing import Normalizer\n",
    "trans = Normalizer()\n",
    "X_train_score=trans.fit_transform(X_train['score'].values.reshape(-1,1))\n",
    "X_test_score=trans.transform(X_test['score'].values.reshape(-1,1))"
   ]
  },
  {
   "cell_type": "code",
   "execution_count": 41,
   "id": "3bf9e765",
   "metadata": {
    "colab": {
     "base_uri": "https://localhost:8080/"
    },
    "id": "3bf9e765",
    "outputId": "478af12e-ff03-4df2-dbe4-c581b1073939"
   },
   "outputs": [
    {
     "name": "stdout",
     "output_type": "stream",
     "text": [
      "CPU times: user 13.6 ms, sys: 23 µs, total: 13.6 ms\n",
      "Wall time: 13 ms\n"
     ]
    }
   ],
   "source": [
    "%%time\n",
    "trans = Normalizer()\n",
    "X_train_ups=trans.fit_transform(X_train['ups'].values.reshape(-1,1))\n",
    "X_test_ups=trans.transform(X_test['ups'].values.reshape(-1,1))"
   ]
  },
  {
   "cell_type": "code",
   "execution_count": 42,
   "id": "246001b5",
   "metadata": {
    "colab": {
     "base_uri": "https://localhost:8080/"
    },
    "id": "246001b5",
    "outputId": "13f0dc37-91b5-46f4-a011-c25f257bb668"
   },
   "outputs": [
    {
     "name": "stdout",
     "output_type": "stream",
     "text": [
      "CPU times: user 15.9 ms, sys: 0 ns, total: 15.9 ms\n",
      "Wall time: 15.8 ms\n"
     ]
    }
   ],
   "source": [
    "%%time\n",
    "trans = Normalizer()\n",
    "X_train_downs=trans.fit_transform(X_train['downs'].values.reshape(-1,1))\n",
    "X_test_downs=trans.transform(X_test['downs'].values.reshape(-1,1))"
   ]
  },
  {
   "cell_type": "code",
   "execution_count": 43,
   "id": "8fSL8b95-U6W",
   "metadata": {
    "colab": {
     "base_uri": "https://localhost:8080/"
    },
    "id": "8fSL8b95-U6W",
    "outputId": "e820586d-aa62-4fd0-b155-abbf00557c14"
   },
   "outputs": [
    {
     "name": "stdout",
     "output_type": "stream",
     "text": [
      "CPU times: user 17.1 ms, sys: 4.02 ms, total: 21.2 ms\n",
      "Wall time: 20.6 ms\n"
     ]
    }
   ],
   "source": [
    "%%time\n",
    "trans = Normalizer()\n",
    "X_train_comp=trans.fit_transform(X_train['compound'].values.reshape(-1,1))\n",
    "X_test_comp=trans.transform(X_test['compound'].values.reshape(-1,1))"
   ]
  },
  {
   "cell_type": "code",
   "execution_count": 44,
   "id": "2PrLRZ9-_VrM",
   "metadata": {
    "colab": {
     "base_uri": "https://localhost:8080/"
    },
    "id": "2PrLRZ9-_VrM",
    "outputId": "696d09f4-f203-44ba-9e94-d36ba279f27a"
   },
   "outputs": [
    {
     "name": "stdout",
     "output_type": "stream",
     "text": [
      "CPU times: user 19.7 ms, sys: 1.99 ms, total: 21.6 ms\n",
      "Wall time: 21.1 ms\n"
     ]
    }
   ],
   "source": [
    "%%time\n",
    "trans = Normalizer()\n",
    "X_train_neg=trans.fit_transform(X_train['negative'].values.reshape(-1,1))\n",
    "X_test_neg=trans.transform(X_test['negative'].values.reshape(-1,1))"
   ]
  },
  {
   "cell_type": "code",
   "execution_count": 45,
   "id": "Vno_GyMh_qf3",
   "metadata": {
    "colab": {
     "base_uri": "https://localhost:8080/"
    },
    "id": "Vno_GyMh_qf3",
    "outputId": "cfe341d5-5ce3-4c33-91e4-92763a529ff2"
   },
   "outputs": [
    {
     "name": "stdout",
     "output_type": "stream",
     "text": [
      "CPU times: user 20.2 ms, sys: 1.97 ms, total: 22.2 ms\n",
      "Wall time: 21.2 ms\n"
     ]
    }
   ],
   "source": [
    "%%time\n",
    "trans = Normalizer()\n",
    "X_train_pos=trans.fit_transform(X_train['positive'].values.reshape(-1,1))\n",
    "X_test_pos=trans.transform(X_test['positive'].values.reshape(-1,1))"
   ]
  },
  {
   "cell_type": "code",
   "execution_count": 46,
   "id": "N-8eYj14_x-5",
   "metadata": {
    "colab": {
     "base_uri": "https://localhost:8080/"
    },
    "id": "N-8eYj14_x-5",
    "outputId": "dda46871-a0d1-47ba-ea9b-5f002ec2dd25"
   },
   "outputs": [
    {
     "name": "stdout",
     "output_type": "stream",
     "text": [
      "CPU times: user 14.3 ms, sys: 2.02 ms, total: 16.4 ms\n",
      "Wall time: 15.5 ms\n"
     ]
    }
   ],
   "source": [
    "%%time\n",
    "trans = Normalizer()\n",
    "X_train_neu=trans.fit_transform(X_train['neutral'].values.reshape(-1,1))\n",
    "X_test_neu=trans.transform(X_test['neutral'].values.reshape(-1,1))"
   ]
  },
  {
   "cell_type": "code",
   "execution_count": 47,
   "id": "JIohW6CN_6v_",
   "metadata": {
    "colab": {
     "base_uri": "https://localhost:8080/"
    },
    "id": "JIohW6CN_6v_",
    "outputId": "b22fc175-fc73-43d5-a415-b77199c0cd90"
   },
   "outputs": [
    {
     "name": "stdout",
     "output_type": "stream",
     "text": [
      "CPU times: user 10.6 ms, sys: 3.96 ms, total: 14.5 ms\n",
      "Wall time: 13.7 ms\n"
     ]
    }
   ],
   "source": [
    "%%time\n",
    "trans = Normalizer()\n",
    "X_train_com_len=trans.fit_transform(X_train['com_len'].values.reshape(-1,1))\n",
    "X_test_com_len=trans.transform(X_test['com_len'].values.reshape(-1,1))"
   ]
  },
  {
   "cell_type": "code",
   "execution_count": 48,
   "id": "GgcrfJxWAKqk",
   "metadata": {
    "colab": {
     "base_uri": "https://localhost:8080/"
    },
    "id": "GgcrfJxWAKqk",
    "outputId": "24fac217-c45e-4bef-9127-7984f58dc2bb"
   },
   "outputs": [
    {
     "name": "stdout",
     "output_type": "stream",
     "text": [
      "CPU times: user 12.4 ms, sys: 2.03 ms, total: 14.4 ms\n",
      "Wall time: 13.7 ms\n"
     ]
    }
   ],
   "source": [
    "%%time\n",
    "trans = Normalizer()\n",
    "X_train_parent_com_len=trans.fit_transform(X_train['parent_com_len'].values.reshape(-1,1))\n",
    "X_test_parent_com_len=trans.transform(X_test['parent_com_len'].values.reshape(-1,1))"
   ]
  },
  {
   "cell_type": "code",
   "execution_count": 62,
   "id": "hF3XgpXYBtOw",
   "metadata": {
    "id": "hF3XgpXYBtOw"
   },
   "outputs": [],
   "source": [
    "numerical_train=np.concatenate((X_train_score,X_train_ups,X_train_downs,X_train_comp,X_train_neu,X_train_neg,X_train_pos,X_train_com_len,X_train_parent_com_len),axis=1)\n",
    "numerical_test=np.concatenate((X_test_score,X_test_ups,X_test_downs,X_test_comp,X_test_neu,X_test_neg,X_test_pos,X_test_com_len,X_test_parent_com_len),axis=1)"
   ]
  },
  {
   "cell_type": "code",
   "execution_count": 63,
   "id": "9Qo1odbhV53U",
   "metadata": {
    "colab": {
     "base_uri": "https://localhost:8080/"
    },
    "id": "9Qo1odbhV53U",
    "outputId": "334a1618-9da6-4dc5-f30b-3ce4b85eca80"
   },
   "outputs": [
    {
     "name": "stdout",
     "output_type": "stream",
     "text": [
      "(707578, 9) (303248, 9)\n"
     ]
    }
   ],
   "source": [
    "print(numerical_train.shape,numerical_test.shape)"
   ]
  },
  {
   "cell_type": "code",
   "execution_count": 64,
   "id": "b27cl84CWK2O",
   "metadata": {
    "id": "b27cl84CWK2O"
   },
   "outputs": [],
   "source": [
    "X_train=[train_com_pad,train_par_com_pad,numerical_train]\n",
    "X_test=[test_com_pad,test_par_com_pad,numerical_test]"
   ]
  },
  {
   "cell_type": "markdown",
   "id": "McEgPS3kEuSm",
   "metadata": {
    "id": "McEgPS3kEuSm"
   },
   "source": [
    "# **Model:-1**"
   ]
  },
  {
   "cell_type": "markdown",
   "id": "ZYMJO-ZJJaX8",
   "metadata": {
    "id": "ZYMJO-ZJJaX8"
   },
   "source": [
    "LSTM layer Using Pre-Trained FasttextEmbedding"
   ]
  },
  {
   "cell_type": "code",
   "execution_count": 65,
   "id": "knuvFe-76II0",
   "metadata": {
    "id": "knuvFe-76II0"
   },
   "outputs": [],
   "source": [
    "from tensorflow.keras.layers import concatenate\n",
    "def LSTM_Model1(comm_len,token_com,par_comm_len,token_par,embedding_comm,embedding_P_comm):\n",
    "    drop_lstm = 0.25\n",
    "    drop_dense = 0.25\n",
    "    num_lstm=150\n",
    "  \n",
    "    input_text_1=Input(shape=(comm_len,), name='Comment', dtype='float32')\n",
    "    sequence_input_1=Embedding(len(token_com.word_index) + 1,300,weights=[embedding_comm],input_length=comm_len,trainable=False,dtype=tf.float32)(input_text_1)\n",
    "    sequence_input_1=LSTM(num_lstm,dropout=drop_lstm,return_sequences=True,dtype=tf.float32)(sequence_input_1)\n",
    "    sequence_input_1=Flatten()(sequence_input_1)\n",
    "    \n",
    "    input_text_2=Input(shape=(par_comm_len,),name='parent_comment', dtype='float32')\n",
    "    sequence_input_2=Embedding(len(token_par.word_index) + 1,300,weights=[embedding_P_comm],input_length=par_comm_len,trainable=False,dtype=tf.float32)(input_text_2)\n",
    "    sequence_input_2=LSTM(num_lstm,dropout=drop_lstm,return_sequences=True,dtype=tf.float32)(sequence_input_2)\n",
    "    sequence_input_2=Flatten()(sequence_input_2)\n",
    "    \n",
    "    \n",
    "    input5 = Input(shape=(9,),name='Numerical', dtype='float32')\n",
    "    flatten_6 = Dense(32,activation='relu',kernel_initializer=he_normal(),kernel_regularizer=l2(0.0001),dtype=tf.float32)(input5)\n",
    "    flatten_6 = Dense(16,activation='relu',kernel_initializer=he_normal(),kernel_regularizer=l2(0.0001),dtype=tf.float32)(flatten_6)\n",
    "    concat=concatenate([sequence_input_1,sequence_input_2,flatten_6],dtype=tf.float32)\n",
    "  \n",
    "    y = Dense(128,activation='relu',kernel_initializer=he_normal(),kernel_regularizer=l2(0.01))(concat)\n",
    "    y = BatchNormalization()(y)\n",
    "    y = Dense(64,activation='relu',kernel_initializer=he_normal(),kernel_regularizer=l2(0.01))(y)\n",
    "    y = BatchNormalization()(y)\n",
    "    y = Dense(32,activation='relu',kernel_initializer=he_normal(),kernel_regularizer=l2(0.01))(y)\n",
    "  \n",
    "    final_output=Dense(2,activation='softmax')(y)\n",
    "  \n",
    "    model= Model(inputs=[input_text_1,input_text_2,input5],outputs=final_output)\n",
    "    return model"
   ]
  },
  {
   "cell_type": "code",
   "execution_count": 66,
   "id": "oWl-pfaOEG83",
   "metadata": {
    "colab": {
     "base_uri": "https://localhost:8080/"
    },
    "id": "oWl-pfaOEG83",
    "outputId": "409818c1-206e-41ba-8330-68d279ea11a4"
   },
   "outputs": [
    {
     "name": "stdout",
     "output_type": "stream",
     "text": [
      "Model: \"model_1\"\n",
      "__________________________________________________________________________________________________\n",
      "Layer (type)                    Output Shape         Param #     Connected to                     \n",
      "==================================================================================================\n",
      "Comment (InputLayer)            [(None, 200)]        0                                            \n",
      "__________________________________________________________________________________________________\n",
      "parent_comment (InputLayer)     [(None, 200)]        0                                            \n",
      "__________________________________________________________________________________________________\n",
      "embedding_3 (Embedding)         (None, 200, 300)     108750000   Comment[0][0]                    \n",
      "__________________________________________________________________________________________________\n",
      "embedding_4 (Embedding)         (None, 200, 300)     56921100    parent_comment[0][0]             \n",
      "__________________________________________________________________________________________________\n",
      "Numerical (InputLayer)          [(None, 9)]          0                                            \n",
      "__________________________________________________________________________________________________\n",
      "lstm_2 (LSTM)                   (None, 200, 150)     270600      embedding_3[0][0]                \n",
      "__________________________________________________________________________________________________\n",
      "lstm_3 (LSTM)                   (None, 200, 150)     270600      embedding_4[0][0]                \n",
      "__________________________________________________________________________________________________\n",
      "dense_6 (Dense)                 (None, 32)           320         Numerical[0][0]                  \n",
      "__________________________________________________________________________________________________\n",
      "flatten_2 (Flatten)             (None, 30000)        0           lstm_2[0][0]                     \n",
      "__________________________________________________________________________________________________\n",
      "flatten_3 (Flatten)             (None, 30000)        0           lstm_3[0][0]                     \n",
      "__________________________________________________________________________________________________\n",
      "dense_7 (Dense)                 (None, 16)           528         dense_6[0][0]                    \n",
      "__________________________________________________________________________________________________\n",
      "concatenate_1 (Concatenate)     (None, 60016)        0           flatten_2[0][0]                  \n",
      "                                                                 flatten_3[0][0]                  \n",
      "                                                                 dense_7[0][0]                    \n",
      "__________________________________________________________________________________________________\n",
      "dense_8 (Dense)                 (None, 128)          7682176     concatenate_1[0][0]              \n",
      "__________________________________________________________________________________________________\n",
      "batch_normalization_2 (BatchNor (None, 128)          512         dense_8[0][0]                    \n",
      "__________________________________________________________________________________________________\n",
      "dense_9 (Dense)                 (None, 64)           8256        batch_normalization_2[0][0]      \n",
      "__________________________________________________________________________________________________\n",
      "batch_normalization_3 (BatchNor (None, 64)           256         dense_9[0][0]                    \n",
      "__________________________________________________________________________________________________\n",
      "dense_10 (Dense)                (None, 32)           2080        batch_normalization_3[0][0]      \n",
      "__________________________________________________________________________________________________\n",
      "dense_11 (Dense)                (None, 2)            66          dense_10[0][0]                   \n",
      "==================================================================================================\n",
      "Total params: 173,906,494\n",
      "Trainable params: 8,235,010\n",
      "Non-trainable params: 165,671,484\n",
      "__________________________________________________________________________________________________\n"
     ]
    }
   ],
   "source": [
    "model4=LSTM_Model1(comm_len,token_com,par_comm_len,token_par,embedding_comm,embedding_P_comm)\n",
    "model4.summary()"
   ]
  },
  {
   "cell_type": "code",
   "execution_count": 67,
   "id": "Mk9mvjFhEL70",
   "metadata": {
    "colab": {
     "base_uri": "https://localhost:8080/",
     "height": 1000
    },
    "id": "Mk9mvjFhEL70",
    "outputId": "c77e0440-0d00-4bb4-f571-d15a414ff18f"
   },
   "outputs": [
    {
     "data": {
      "image/png": "[encoded data removed]",
      "text/plain": [
       "<IPython.core.display.Image object>"
      ]
     },
     "execution_count": 67,
     "metadata": {},
     "output_type": "execute_result"
    }
   ],
   "source": [
    "tf.keras.utils.plot_model(\n",
    "    model4, to_file='model.png', show_shapes=True, show_layer_names=True,\n",
    "    rankdir='TB')"
   ]
  },
  {
   "cell_type": "code",
   "execution_count": 69,
   "id": "Qr2M6KNZERmX",
   "metadata": {
    "id": "Qr2M6KNZERmX"
   },
   "outputs": [],
   "source": [
    "from tensorflow.keras.callbacks import *\n",
    "import os\n",
    "filepath=\"weights_4.best.hdf1\"\n",
    "checkpoint = ModelCheckpoint(filepath, monitor='val_accuracy', verbose=1, mode='max')\n",
    "earlystop = EarlyStopping(monitor = 'val_accuracy',  mode=\"max\",min_delta = 0, patience = 5,verbose = 1)\n",
    "reduce_lr = ReduceLROnPlateau(monitor = 'val_accuracy', factor = 0.25, patience = 2, verbose = 1)\n",
    "%reload_ext tensorboard\n",
    "import datetime\n",
    "logdir = os.path.join(\"logs_4\", datetime.datetime.now().strftime(\"%Y%m%d-%H%M%S\"))\n",
    "#tensorboard = tf.keras.callbacks.TensorBoard(logdir, histogram_freq=1)\n",
    "tensorboard = TensorBoard(log_dir=logdir, histogram_freq=0, write_graph=True, write_grads=False, write_images=False)\n",
    "callbacks = [checkpoint,reduce_lr,tensorboard,earlystop]"
   ]
  },
  {
   "cell_type": "code",
   "execution_count": 70,
   "id": "Sds1vcpvEedh",
   "metadata": {
    "id": "Sds1vcpvEedh"
   },
   "outputs": [],
   "source": [
    "import tensorflow as tf\n",
    "adam = tf.keras.optimizers.Adam(lr=0.01)\n",
    "model4.compile(optimizer=adam, loss='categorical_crossentropy',metrics=['accuracy'])"
   ]
  },
  {
   "cell_type": "code",
   "execution_count": 71,
   "id": "sVRMMGHuEgTz",
   "metadata": {
    "colab": {
     "base_uri": "https://localhost:8080/"
    },
    "id": "sVRMMGHuEgTz",
    "outputId": "a3a19f8b-f525-466c-a4a5-3e96281b6ba9"
   },
   "outputs": [
    {
     "metadata": {
      "tags": null
     },
     "name": "stdout",
     "output_type": "stream",
     "text": [
      "Epoch 1/50\n",
      "1382/1382 [==============================] - 249s 177ms/step - loss: 2.1983 - accuracy: 0.6939 - val_loss: 7.5074 - val_accuracy: 0.5000\n",
      "\n",
      "Epoch 00001: saving model to weights_4.best.hdf1\n"
     ]
    },
    {
     "metadata": {
      "tags": null
     },
     "name": "stderr",
     "output_type": "stream",
     "text": [
      "WARNING:absl:Function `_wrapped_model` contains input name(s) Comment, Numerical with unsupported characters which will be renamed to comment, numerical in the SavedModel.\n",
      "WARNING:absl:Found untraced functions such as lstm_cell_2_layer_call_fn, lstm_cell_2_layer_call_and_return_conditional_losses, lstm_cell_3_layer_call_fn, lstm_cell_3_layer_call_and_return_conditional_losses, lstm_cell_2_layer_call_fn while saving (showing 5 of 10). These functions will not be directly callable after loading.\n"
     ]
    },
    {
     "metadata": {
      "tags": null
     },
     "name": "stdout",
     "output_type": "stream",
     "text": [
      "INFO:tensorflow:Assets written to: weights_4.best.hdf1/assets\n"
     ]
    },
    {
     "metadata": {
      "tags": null
     },
     "name": "stderr",
     "output_type": "stream",
     "text": [
      "INFO:tensorflow:Assets written to: weights_4.best.hdf1/assets\n"
     ]
    },
    {
     "metadata": {
      "tags": null
     },
     "name": "stdout",
     "output_type": "stream",
     "text": [
      "Epoch 2/50\n",
      "1382/1382 [==============================] - 254s 183ms/step - loss: 1.3957 - accuracy: 0.7226 - val_loss: 3.0642 - val_accuracy: 0.5000\n",
      "\n",
      "Epoch 00002: saving model to weights_4.best.hdf1\n"
     ]
    },
    {
     "metadata": {
      "tags": null
     },
     "name": "stderr",
     "output_type": "stream",
     "text": [
      "WARNING:absl:Function `_wrapped_model` contains input name(s) Comment, Numerical with unsupported characters which will be renamed to comment, numerical in the SavedModel.\n",
      "WARNING:absl:Found untraced functions such as lstm_cell_2_layer_call_fn, lstm_cell_2_layer_call_and_return_conditional_losses, lstm_cell_3_layer_call_fn, lstm_cell_3_layer_call_and_return_conditional_losses, lstm_cell_2_layer_call_fn while saving (showing 5 of 10). These functions will not be directly callable after loading.\n"
     ]
    },
    {
     "metadata": {
      "tags": null
     },
     "name": "stdout",
     "output_type": "stream",
     "text": [
      "INFO:tensorflow:Assets written to: weights_4.best.hdf1/assets\n"
     ]
    },
    {
     "metadata": {
      "tags": null
     },
     "name": "stderr",
     "output_type": "stream",
     "text": [
      "INFO:tensorflow:Assets written to: weights_4.best.hdf1/assets\n"
     ]
    },
    {
     "metadata": {
      "tags": null
     },
     "name": "stdout",
     "output_type": "stream",
     "text": [
      "Epoch 3/50\n",
      "1382/1382 [==============================] - 254s 184ms/step - loss: 1.0722 - accuracy: 0.7318 - val_loss: 9.0586 - val_accuracy: 0.5000\n",
      "\n",
      "Epoch 00003: saving model to weights_4.best.hdf1\n"
     ]
    },
    {
     "metadata": {
      "tags": null
     },
     "name": "stderr",
     "output_type": "stream",
     "text": [
      "WARNING:absl:Function `_wrapped_model` contains input name(s) Comment, Numerical with unsupported characters which will be renamed to comment, numerical in the SavedModel.\n",
      "WARNING:absl:Found untraced functions such as lstm_cell_2_layer_call_fn, lstm_cell_2_layer_call_and_return_conditional_losses, lstm_cell_3_layer_call_fn, lstm_cell_3_layer_call_and_return_conditional_losses, lstm_cell_2_layer_call_fn while saving (showing 5 of 10). These functions will not be directly callable after loading.\n"
     ]
    },
    {
     "metadata": {
      "tags": null
     },
     "name": "stdout",
     "output_type": "stream",
     "text": [
      "INFO:tensorflow:Assets written to: weights_4.best.hdf1/assets\n"
     ]
    },
    {
     "metadata": {
      "tags": null
     },
     "name": "stderr",
     "output_type": "stream",
     "text": [
      "INFO:tensorflow:Assets written to: weights_4.best.hdf1/assets\n"
     ]
    },
    {
     "metadata": {
      "tags": null
     },
     "name": "stdout",
     "output_type": "stream",
     "text": [
      "\n",
      "Epoch 00003: ReduceLROnPlateau reducing learning rate to 0.0024999999441206455.\n",
      "Epoch 4/50\n",
      "1382/1382 [==============================] - 254s 184ms/step - loss: 0.6771 - accuracy: 0.7466 - val_loss: 1.1925 - val_accuracy: 0.5097\n",
      "\n",
      "Epoch 00004: saving model to weights_4.best.hdf1\n"
     ]
    },
    {
     "metadata": {
      "tags": null
     },
     "name": "stderr",
     "output_type": "stream",
     "text": [
      "WARNING:absl:Function `_wrapped_model` contains input name(s) Comment, Numerical with unsupported characters which will be renamed to comment, numerical in the SavedModel.\n",
      "WARNING:absl:Found untraced functions such as lstm_cell_2_layer_call_fn, lstm_cell_2_layer_call_and_return_conditional_losses, lstm_cell_3_layer_call_fn, lstm_cell_3_layer_call_and_return_conditional_losses, lstm_cell_2_layer_call_fn while saving (showing 5 of 10). These functions will not be directly callable after loading.\n"
     ]
    },
    {
     "metadata": {
      "tags": null
     },
     "name": "stdout",
     "output_type": "stream",
     "text": [
      "INFO:tensorflow:Assets written to: weights_4.best.hdf1/assets\n"
     ]
    },
    {
     "metadata": {
      "tags": null
     },
     "name": "stderr",
     "output_type": "stream",
     "text": [
      "INFO:tensorflow:Assets written to: weights_4.best.hdf1/assets\n"
     ]
    },
    {
     "metadata": {
      "tags": null
     },
     "name": "stdout",
     "output_type": "stream",
     "text": [
      "Epoch 5/50\n",
      "1382/1382 [==============================] - 254s 184ms/step - loss: 0.5812 - accuracy: 0.7520 - val_loss: 1.4110 - val_accuracy: 0.5000\n",
      "\n",
      "Epoch 00005: saving model to weights_4.best.hdf1\n"
     ]
    },
    {
     "metadata": {
      "tags": null
     },
     "name": "stderr",
     "output_type": "stream",
     "text": [
      "WARNING:absl:Function `_wrapped_model` contains input name(s) Comment, Numerical with unsupported characters which will be renamed to comment, numerical in the SavedModel.\n",
      "WARNING:absl:Found untraced functions such as lstm_cell_2_layer_call_fn, lstm_cell_2_layer_call_and_return_conditional_losses, lstm_cell_3_layer_call_fn, lstm_cell_3_layer_call_and_return_conditional_losses, lstm_cell_2_layer_call_fn while saving (showing 5 of 10). These functions will not be directly callable after loading.\n"
     ]
    },
    {
     "metadata": {
      "tags": null
     },
     "name": "stdout",
     "output_type": "stream",
     "text": [
      "INFO:tensorflow:Assets written to: weights_4.best.hdf1/assets\n"
     ]
    },
    {
     "metadata": {
      "tags": null
     },
     "name": "stderr",
     "output_type": "stream",
     "text": [
      "INFO:tensorflow:Assets written to: weights_4.best.hdf1/assets\n"
     ]
    },
    {
     "name": "stdout",
     "output_type": "stream",
     "text": [
      "Epoch 6/50\n",
      "1382/1382 [==============================] - 254s 184ms/step - loss: 0.5593 - accuracy: 0.7554 - val_loss: 1.7894 - val_accuracy: 0.5000\n",
      "\n",
      "Epoch 00006: saving model to weights_4.best.hdf1\n"
     ]
    },
    {
     "name": "stderr",
     "output_type": "stream",
     "text": [
      "WARNING:absl:Function `_wrapped_model` contains input name(s) Comment, Numerical with unsupported characters which will be renamed to comment, numerical in the SavedModel.\n",
      "WARNING:absl:Found untraced functions such as lstm_cell_2_layer_call_fn, lstm_cell_2_layer_call_and_return_conditional_losses, lstm_cell_3_layer_call_fn, lstm_cell_3_layer_call_and_return_conditional_losses, lstm_cell_2_layer_call_fn while saving (showing 5 of 10). These functions will not be directly callable after loading.\n"
     ]
    },
    {
     "name": "stdout",
     "output_type": "stream",
     "text": [
      "INFO:tensorflow:Assets written to: weights_4.best.hdf1/assets\n"
     ]
    },
    {
     "name": "stderr",
     "output_type": "stream",
     "text": [
      "INFO:tensorflow:Assets written to: weights_4.best.hdf1/assets\n"
     ]
    },
    {
     "name": "stdout",
     "output_type": "stream",
     "text": [
      "\n",
      "Epoch 00006: ReduceLROnPlateau reducing learning rate to 0.0006249999860301614.\n",
      "Epoch 7/50\n",
      "1382/1382 [==============================] - 254s 184ms/step - loss: 0.4967 - accuracy: 0.7620 - val_loss: 0.6517 - val_accuracy: 0.6847\n",
      "\n",
      "Epoch 00007: saving model to weights_4.best.hdf1\n"
     ]
    },
    {
     "name": "stderr",
     "output_type": "stream",
     "text": [
      "WARNING:absl:Function `_wrapped_model` contains input name(s) Comment, Numerical with unsupported characters which will be renamed to comment, numerical in the SavedModel.\n",
      "WARNING:absl:Found untraced functions such as lstm_cell_2_layer_call_fn, lstm_cell_2_layer_call_and_return_conditional_losses, lstm_cell_3_layer_call_fn, lstm_cell_3_layer_call_and_return_conditional_losses, lstm_cell_2_layer_call_fn while saving (showing 5 of 10). These functions will not be directly callable after loading.\n"
     ]
    },
    {
     "name": "stdout",
     "output_type": "stream",
     "text": [
      "INFO:tensorflow:Assets written to: weights_4.best.hdf1/assets\n"
     ]
    },
    {
     "name": "stderr",
     "output_type": "stream",
     "text": [
      "INFO:tensorflow:Assets written to: weights_4.best.hdf1/assets\n"
     ]
    },
    {
     "name": "stdout",
     "output_type": "stream",
     "text": [
      "Epoch 8/50\n",
      "1382/1382 [==============================] - 254s 184ms/step - loss: 0.4946 - accuracy: 0.7634 - val_loss: 2.2504 - val_accuracy: 0.5000\n",
      "\n",
      "Epoch 00008: saving model to weights_4.best.hdf1\n"
     ]
    },
    {
     "name": "stderr",
     "output_type": "stream",
     "text": [
      "WARNING:absl:Function `_wrapped_model` contains input name(s) Comment, Numerical with unsupported characters which will be renamed to comment, numerical in the SavedModel.\n",
      "WARNING:absl:Found untraced functions such as lstm_cell_2_layer_call_fn, lstm_cell_2_layer_call_and_return_conditional_losses, lstm_cell_3_layer_call_fn, lstm_cell_3_layer_call_and_return_conditional_losses, lstm_cell_2_layer_call_fn while saving (showing 5 of 10). These functions will not be directly callable after loading.\n"
     ]
    },
    {
     "name": "stdout",
     "output_type": "stream",
     "text": [
      "INFO:tensorflow:Assets written to: weights_4.best.hdf1/assets\n"
     ]
    },
    {
     "name": "stderr",
     "output_type": "stream",
     "text": [
      "INFO:tensorflow:Assets written to: weights_4.best.hdf1/assets\n"
     ]
    },
    {
     "name": "stdout",
     "output_type": "stream",
     "text": [
      "Epoch 9/50\n",
      "1382/1382 [==============================] - 254s 184ms/step - loss: 0.4931 - accuracy: 0.7646 - val_loss: 3.6071 - val_accuracy: 0.5000\n",
      "\n",
      "Epoch 00009: saving model to weights_4.best.hdf1\n"
     ]
    },
    {
     "name": "stderr",
     "output_type": "stream",
     "text": [
      "WARNING:absl:Function `_wrapped_model` contains input name(s) Comment, Numerical with unsupported characters which will be renamed to comment, numerical in the SavedModel.\n",
      "WARNING:absl:Found untraced functions such as lstm_cell_2_layer_call_fn, lstm_cell_2_layer_call_and_return_conditional_losses, lstm_cell_3_layer_call_fn, lstm_cell_3_layer_call_and_return_conditional_losses, lstm_cell_2_layer_call_fn while saving (showing 5 of 10). These functions will not be directly callable after loading.\n"
     ]
    },
    {
     "name": "stdout",
     "output_type": "stream",
     "text": [
      "INFO:tensorflow:Assets written to: weights_4.best.hdf1/assets\n"
     ]
    },
    {
     "name": "stderr",
     "output_type": "stream",
     "text": [
      "INFO:tensorflow:Assets written to: weights_4.best.hdf1/assets\n"
     ]
    },
    {
     "name": "stdout",
     "output_type": "stream",
     "text": [
      "\n",
      "Epoch 00009: ReduceLROnPlateau reducing learning rate to 0.00015624999650754035.\n",
      "Epoch 10/50\n",
      "1382/1382 [==============================] - 254s 184ms/step - loss: 0.4820 - accuracy: 0.7674 - val_loss: 0.7044 - val_accuracy: 0.6341\n",
      "\n",
      "Epoch 00010: saving model to weights_4.best.hdf1\n"
     ]
    },
    {
     "name": "stderr",
     "output_type": "stream",
     "text": [
      "WARNING:absl:Function `_wrapped_model` contains input name(s) Comment, Numerical with unsupported characters which will be renamed to comment, numerical in the SavedModel.\n",
      "WARNING:absl:Found untraced functions such as lstm_cell_2_layer_call_fn, lstm_cell_2_layer_call_and_return_conditional_losses, lstm_cell_3_layer_call_fn, lstm_cell_3_layer_call_and_return_conditional_losses, lstm_cell_2_layer_call_fn while saving (showing 5 of 10). These functions will not be directly callable after loading.\n"
     ]
    },
    {
     "name": "stdout",
     "output_type": "stream",
     "text": [
      "INFO:tensorflow:Assets written to: weights_4.best.hdf1/assets\n"
     ]
    },
    {
     "name": "stderr",
     "output_type": "stream",
     "text": [
      "INFO:tensorflow:Assets written to: weights_4.best.hdf1/assets\n"
     ]
    },
    {
     "name": "stdout",
     "output_type": "stream",
     "text": [
      "Epoch 11/50\n",
      "1382/1382 [==============================] - 255s 184ms/step - loss: 0.4805 - accuracy: 0.7685 - val_loss: 1.3461 - val_accuracy: 0.5242\n",
      "\n",
      "Epoch 00011: saving model to weights_4.best.hdf1\n"
     ]
    },
    {
     "name": "stderr",
     "output_type": "stream",
     "text": [
      "WARNING:absl:Function `_wrapped_model` contains input name(s) Comment, Numerical with unsupported characters which will be renamed to comment, numerical in the SavedModel.\n",
      "WARNING:absl:Found untraced functions such as lstm_cell_2_layer_call_fn, lstm_cell_2_layer_call_and_return_conditional_losses, lstm_cell_3_layer_call_fn, lstm_cell_3_layer_call_and_return_conditional_losses, lstm_cell_2_layer_call_fn while saving (showing 5 of 10). These functions will not be directly callable after loading.\n"
     ]
    },
    {
     "name": "stdout",
     "output_type": "stream",
     "text": [
      "INFO:tensorflow:Assets written to: weights_4.best.hdf1/assets\n"
     ]
    },
    {
     "name": "stderr",
     "output_type": "stream",
     "text": [
      "INFO:tensorflow:Assets written to: weights_4.best.hdf1/assets\n"
     ]
    },
    {
     "name": "stdout",
     "output_type": "stream",
     "text": [
      "\n",
      "Epoch 00011: ReduceLROnPlateau reducing learning rate to 3.9062499126885086e-05.\n",
      "Epoch 12/50\n",
      "1382/1382 [==============================] - 255s 184ms/step - loss: 0.4785 - accuracy: 0.7686 - val_loss: 0.5354 - val_accuracy: 0.7364\n",
      "\n",
      "Epoch 00012: saving model to weights_4.best.hdf1\n"
     ]
    },
    {
     "name": "stderr",
     "output_type": "stream",
     "text": [
      "WARNING:absl:Function `_wrapped_model` contains input name(s) Comment, Numerical with unsupported characters which will be renamed to comment, numerical in the SavedModel.\n",
      "WARNING:absl:Found untraced functions such as lstm_cell_2_layer_call_fn, lstm_cell_2_layer_call_and_return_conditional_losses, lstm_cell_3_layer_call_fn, lstm_cell_3_layer_call_and_return_conditional_losses, lstm_cell_2_layer_call_fn while saving (showing 5 of 10). These functions will not be directly callable after loading.\n"
     ]
    },
    {
     "name": "stdout",
     "output_type": "stream",
     "text": [
      "INFO:tensorflow:Assets written to: weights_4.best.hdf1/assets\n"
     ]
    },
    {
     "name": "stderr",
     "output_type": "stream",
     "text": [
      "INFO:tensorflow:Assets written to: weights_4.best.hdf1/assets\n"
     ]
    },
    {
     "name": "stdout",
     "output_type": "stream",
     "text": [
      "Epoch 13/50\n",
      "1382/1382 [==============================] - 255s 184ms/step - loss: 0.4779 - accuracy: 0.7691 - val_loss: 0.6437 - val_accuracy: 0.6695\n",
      "\n",
      "Epoch 00013: saving model to weights_4.best.hdf1\n"
     ]
    },
    {
     "name": "stderr",
     "output_type": "stream",
     "text": [
      "WARNING:absl:Function `_wrapped_model` contains input name(s) Comment, Numerical with unsupported characters which will be renamed to comment, numerical in the SavedModel.\n",
      "WARNING:absl:Found untraced functions such as lstm_cell_2_layer_call_fn, lstm_cell_2_layer_call_and_return_conditional_losses, lstm_cell_3_layer_call_fn, lstm_cell_3_layer_call_and_return_conditional_losses, lstm_cell_2_layer_call_fn while saving (showing 5 of 10). These functions will not be directly callable after loading.\n"
     ]
    },
    {
     "name": "stdout",
     "output_type": "stream",
     "text": [
      "INFO:tensorflow:Assets written to: weights_4.best.hdf1/assets\n"
     ]
    },
    {
     "name": "stderr",
     "output_type": "stream",
     "text": [
      "INFO:tensorflow:Assets written to: weights_4.best.hdf1/assets\n"
     ]
    },
    {
     "name": "stdout",
     "output_type": "stream",
     "text": [
      "Epoch 14/50\n",
      "1382/1382 [==============================] - 255s 184ms/step - loss: 0.4775 - accuracy: 0.7694 - val_loss: 0.5990 - val_accuracy: 0.6971\n",
      "\n",
      "Epoch 00014: saving model to weights_4.best.hdf1\n"
     ]
    },
    {
     "name": "stderr",
     "output_type": "stream",
     "text": [
      "WARNING:absl:Function `_wrapped_model` contains input name(s) Comment, Numerical with unsupported characters which will be renamed to comment, numerical in the SavedModel.\n",
      "WARNING:absl:Found untraced functions such as lstm_cell_2_layer_call_fn, lstm_cell_2_layer_call_and_return_conditional_losses, lstm_cell_3_layer_call_fn, lstm_cell_3_layer_call_and_return_conditional_losses, lstm_cell_2_layer_call_fn while saving (showing 5 of 10). These functions will not be directly callable after loading.\n"
     ]
    },
    {
     "name": "stdout",
     "output_type": "stream",
     "text": [
      "INFO:tensorflow:Assets written to: weights_4.best.hdf1/assets\n"
     ]
    },
    {
     "name": "stderr",
     "output_type": "stream",
     "text": [
      "INFO:tensorflow:Assets written to: weights_4.best.hdf1/assets\n"
     ]
    },
    {
     "name": "stdout",
     "output_type": "stream",
     "text": [
      "\n",
      "Epoch 00014: ReduceLROnPlateau reducing learning rate to 9.765624781721272e-06.\n",
      "Epoch 15/50\n",
      "1382/1382 [==============================] - 255s 185ms/step - loss: 0.4762 - accuracy: 0.7699 - val_loss: 0.5233 - val_accuracy: 0.7418\n",
      "\n",
      "Epoch 00015: saving model to weights_4.best.hdf1\n"
     ]
    },
    {
     "name": "stderr",
     "output_type": "stream",
     "text": [
      "WARNING:absl:Function `_wrapped_model` contains input name(s) Comment, Numerical with unsupported characters which will be renamed to comment, numerical in the SavedModel.\n",
      "WARNING:absl:Found untraced functions such as lstm_cell_2_layer_call_fn, lstm_cell_2_layer_call_and_return_conditional_losses, lstm_cell_3_layer_call_fn, lstm_cell_3_layer_call_and_return_conditional_losses, lstm_cell_2_layer_call_fn while saving (showing 5 of 10). These functions will not be directly callable after loading.\n"
     ]
    },
    {
     "name": "stdout",
     "output_type": "stream",
     "text": [
      "INFO:tensorflow:Assets written to: weights_4.best.hdf1/assets\n"
     ]
    },
    {
     "name": "stderr",
     "output_type": "stream",
     "text": [
      "INFO:tensorflow:Assets written to: weights_4.best.hdf1/assets\n"
     ]
    },
    {
     "name": "stdout",
     "output_type": "stream",
     "text": [
      "Epoch 16/50\n",
      "1382/1382 [==============================] - 255s 184ms/step - loss: 0.4764 - accuracy: 0.7706 - val_loss: 0.5186 - val_accuracy: 0.7462\n",
      "\n",
      "Epoch 00016: saving model to weights_4.best.hdf1\n"
     ]
    },
    {
     "name": "stderr",
     "output_type": "stream",
     "text": [
      "WARNING:absl:Function `_wrapped_model` contains input name(s) Comment, Numerical with unsupported characters which will be renamed to comment, numerical in the SavedModel.\n",
      "WARNING:absl:Found untraced functions such as lstm_cell_2_layer_call_fn, lstm_cell_2_layer_call_and_return_conditional_losses, lstm_cell_3_layer_call_fn, lstm_cell_3_layer_call_and_return_conditional_losses, lstm_cell_2_layer_call_fn while saving (showing 5 of 10). These functions will not be directly callable after loading.\n"
     ]
    },
    {
     "name": "stdout",
     "output_type": "stream",
     "text": [
      "INFO:tensorflow:Assets written to: weights_4.best.hdf1/assets\n"
     ]
    },
    {
     "name": "stderr",
     "output_type": "stream",
     "text": [
      "INFO:tensorflow:Assets written to: weights_4.best.hdf1/assets\n"
     ]
    },
    {
     "name": "stdout",
     "output_type": "stream",
     "text": [
      "Epoch 17/50\n",
      "1382/1382 [==============================] - 255s 184ms/step - loss: 0.4757 - accuracy: 0.7708 - val_loss: 0.5185 - val_accuracy: 0.7456\n",
      "\n",
      "Epoch 00017: saving model to weights_4.best.hdf1\n"
     ]
    },
    {
     "name": "stderr",
     "output_type": "stream",
     "text": [
      "WARNING:absl:Function `_wrapped_model` contains input name(s) Comment, Numerical with unsupported characters which will be renamed to comment, numerical in the SavedModel.\n",
      "WARNING:absl:Found untraced functions such as lstm_cell_2_layer_call_fn, lstm_cell_2_layer_call_and_return_conditional_losses, lstm_cell_3_layer_call_fn, lstm_cell_3_layer_call_and_return_conditional_losses, lstm_cell_2_layer_call_fn while saving (showing 5 of 10). These functions will not be directly callable after loading.\n"
     ]
    },
    {
     "name": "stdout",
     "output_type": "stream",
     "text": [
      "INFO:tensorflow:Assets written to: weights_4.best.hdf1/assets\n"
     ]
    },
    {
     "name": "stderr",
     "output_type": "stream",
     "text": [
      "INFO:tensorflow:Assets written to: weights_4.best.hdf1/assets\n"
     ]
    },
    {
     "name": "stdout",
     "output_type": "stream",
     "text": [
      "Epoch 18/50\n",
      "1382/1382 [==============================] - 255s 184ms/step - loss: 0.4755 - accuracy: 0.7705 - val_loss: 0.5181 - val_accuracy: 0.7454\n",
      "\n",
      "Epoch 00018: saving model to weights_4.best.hdf1\n"
     ]
    },
    {
     "name": "stderr",
     "output_type": "stream",
     "text": [
      "WARNING:absl:Function `_wrapped_model` contains input name(s) Comment, Numerical with unsupported characters which will be renamed to comment, numerical in the SavedModel.\n",
      "WARNING:absl:Found untraced functions such as lstm_cell_2_layer_call_fn, lstm_cell_2_layer_call_and_return_conditional_losses, lstm_cell_3_layer_call_fn, lstm_cell_3_layer_call_and_return_conditional_losses, lstm_cell_2_layer_call_fn while saving (showing 5 of 10). These functions will not be directly callable after loading.\n"
     ]
    },
    {
     "name": "stdout",
     "output_type": "stream",
     "text": [
      "INFO:tensorflow:Assets written to: weights_4.best.hdf1/assets\n"
     ]
    },
    {
     "name": "stderr",
     "output_type": "stream",
     "text": [
      "INFO:tensorflow:Assets written to: weights_4.best.hdf1/assets\n"
     ]
    },
    {
     "name": "stdout",
     "output_type": "stream",
     "text": [
      "\n",
      "Epoch 00018: ReduceLROnPlateau reducing learning rate to 2.441406195430318e-06.\n",
      "Epoch 19/50\n",
      "1382/1382 [==============================] - 255s 184ms/step - loss: 0.4756 - accuracy: 0.7700 - val_loss: 0.5169 - val_accuracy: 0.7465\n",
      "\n",
      "Epoch 00019: saving model to weights_4.best.hdf1\n"
     ]
    },
    {
     "name": "stderr",
     "output_type": "stream",
     "text": [
      "WARNING:absl:Function `_wrapped_model` contains input name(s) Comment, Numerical with unsupported characters which will be renamed to comment, numerical in the SavedModel.\n",
      "WARNING:absl:Found untraced functions such as lstm_cell_2_layer_call_fn, lstm_cell_2_layer_call_and_return_conditional_losses, lstm_cell_3_layer_call_fn, lstm_cell_3_layer_call_and_return_conditional_losses, lstm_cell_2_layer_call_fn while saving (showing 5 of 10). These functions will not be directly callable after loading.\n"
     ]
    },
    {
     "name": "stdout",
     "output_type": "stream",
     "text": [
      "INFO:tensorflow:Assets written to: weights_4.best.hdf1/assets\n"
     ]
    },
    {
     "name": "stderr",
     "output_type": "stream",
     "text": [
      "INFO:tensorflow:Assets written to: weights_4.best.hdf1/assets\n"
     ]
    },
    {
     "name": "stdout",
     "output_type": "stream",
     "text": [
      "Epoch 20/50\n",
      "1382/1382 [==============================] - 255s 184ms/step - loss: 0.4753 - accuracy: 0.7703 - val_loss: 0.5164 - val_accuracy: 0.7469\n",
      "\n",
      "Epoch 00020: saving model to weights_4.best.hdf1\n"
     ]
    },
    {
     "name": "stderr",
     "output_type": "stream",
     "text": [
      "WARNING:absl:Function `_wrapped_model` contains input name(s) Comment, Numerical with unsupported characters which will be renamed to comment, numerical in the SavedModel.\n",
      "WARNING:absl:Found untraced functions such as lstm_cell_2_layer_call_fn, lstm_cell_2_layer_call_and_return_conditional_losses, lstm_cell_3_layer_call_fn, lstm_cell_3_layer_call_and_return_conditional_losses, lstm_cell_2_layer_call_fn while saving (showing 5 of 10). These functions will not be directly callable after loading.\n"
     ]
    },
    {
     "name": "stdout",
     "output_type": "stream",
     "text": [
      "INFO:tensorflow:Assets written to: weights_4.best.hdf1/assets\n"
     ]
    },
    {
     "name": "stderr",
     "output_type": "stream",
     "text": [
      "INFO:tensorflow:Assets written to: weights_4.best.hdf1/assets\n"
     ]
    },
    {
     "name": "stdout",
     "output_type": "stream",
     "text": [
      "Epoch 21/50\n",
      "1382/1382 [==============================] - 254s 184ms/step - loss: 0.4755 - accuracy: 0.7706 - val_loss: 0.5169 - val_accuracy: 0.7468\n",
      "\n",
      "Epoch 00021: saving model to weights_4.best.hdf1\n"
     ]
    },
    {
     "name": "stderr",
     "output_type": "stream",
     "text": [
      "WARNING:absl:Function `_wrapped_model` contains input name(s) Comment, Numerical with unsupported characters which will be renamed to comment, numerical in the SavedModel.\n",
      "WARNING:absl:Found untraced functions such as lstm_cell_2_layer_call_fn, lstm_cell_2_layer_call_and_return_conditional_losses, lstm_cell_3_layer_call_fn, lstm_cell_3_layer_call_and_return_conditional_losses, lstm_cell_2_layer_call_fn while saving (showing 5 of 10). These functions will not be directly callable after loading.\n"
     ]
    },
    {
     "name": "stdout",
     "output_type": "stream",
     "text": [
      "INFO:tensorflow:Assets written to: weights_4.best.hdf1/assets\n"
     ]
    },
    {
     "name": "stderr",
     "output_type": "stream",
     "text": [
      "INFO:tensorflow:Assets written to: weights_4.best.hdf1/assets\n"
     ]
    },
    {
     "name": "stdout",
     "output_type": "stream",
     "text": [
      "Epoch 22/50\n",
      "1382/1382 [==============================] - 254s 184ms/step - loss: 0.4754 - accuracy: 0.7710 - val_loss: 0.5179 - val_accuracy: 0.7458\n",
      "\n",
      "Epoch 00022: saving model to weights_4.best.hdf1\n"
     ]
    },
    {
     "name": "stderr",
     "output_type": "stream",
     "text": [
      "WARNING:absl:Function `_wrapped_model` contains input name(s) Comment, Numerical with unsupported characters which will be renamed to comment, numerical in the SavedModel.\n",
      "WARNING:absl:Found untraced functions such as lstm_cell_2_layer_call_fn, lstm_cell_2_layer_call_and_return_conditional_losses, lstm_cell_3_layer_call_fn, lstm_cell_3_layer_call_and_return_conditional_losses, lstm_cell_2_layer_call_fn while saving (showing 5 of 10). These functions will not be directly callable after loading.\n"
     ]
    },
    {
     "name": "stdout",
     "output_type": "stream",
     "text": [
      "INFO:tensorflow:Assets written to: weights_4.best.hdf1/assets\n"
     ]
    },
    {
     "name": "stderr",
     "output_type": "stream",
     "text": [
      "INFO:tensorflow:Assets written to: weights_4.best.hdf1/assets\n"
     ]
    },
    {
     "name": "stdout",
     "output_type": "stream",
     "text": [
      "\n",
      "Epoch 00022: ReduceLROnPlateau reducing learning rate to 6.103515488575795e-07.\n",
      "Epoch 23/50\n",
      "1382/1382 [==============================] - 254s 184ms/step - loss: 0.4752 - accuracy: 0.7706 - val_loss: 0.5171 - val_accuracy: 0.7463\n",
      "\n",
      "Epoch 00023: saving model to weights_4.best.hdf1\n"
     ]
    },
    {
     "name": "stderr",
     "output_type": "stream",
     "text": [
      "WARNING:absl:Function `_wrapped_model` contains input name(s) Comment, Numerical with unsupported characters which will be renamed to comment, numerical in the SavedModel.\n",
      "WARNING:absl:Found untraced functions such as lstm_cell_2_layer_call_fn, lstm_cell_2_layer_call_and_return_conditional_losses, lstm_cell_3_layer_call_fn, lstm_cell_3_layer_call_and_return_conditional_losses, lstm_cell_2_layer_call_fn while saving (showing 5 of 10). These functions will not be directly callable after loading.\n"
     ]
    },
    {
     "name": "stdout",
     "output_type": "stream",
     "text": [
      "INFO:tensorflow:Assets written to: weights_4.best.hdf1/assets\n"
     ]
    },
    {
     "name": "stderr",
     "output_type": "stream",
     "text": [
      "INFO:tensorflow:Assets written to: weights_4.best.hdf1/assets\n"
     ]
    },
    {
     "name": "stdout",
     "output_type": "stream",
     "text": [
      "Epoch 24/50\n",
      "1382/1382 [==============================] - 254s 184ms/step - loss: 0.4752 - accuracy: 0.7708 - val_loss: 0.5172 - val_accuracy: 0.7463\n",
      "\n",
      "Epoch 00024: saving model to weights_4.best.hdf1\n"
     ]
    },
    {
     "name": "stderr",
     "output_type": "stream",
     "text": [
      "WARNING:absl:Function `_wrapped_model` contains input name(s) Comment, Numerical with unsupported characters which will be renamed to comment, numerical in the SavedModel.\n",
      "WARNING:absl:Found untraced functions such as lstm_cell_2_layer_call_fn, lstm_cell_2_layer_call_and_return_conditional_losses, lstm_cell_3_layer_call_fn, lstm_cell_3_layer_call_and_return_conditional_losses, lstm_cell_2_layer_call_fn while saving (showing 5 of 10). These functions will not be directly callable after loading.\n"
     ]
    },
    {
     "name": "stdout",
     "output_type": "stream",
     "text": [
      "INFO:tensorflow:Assets written to: weights_4.best.hdf1/assets\n"
     ]
    },
    {
     "name": "stderr",
     "output_type": "stream",
     "text": [
      "INFO:tensorflow:Assets written to: weights_4.best.hdf1/assets\n"
     ]
    },
    {
     "name": "stdout",
     "output_type": "stream",
     "text": [
      "\n",
      "Epoch 00024: ReduceLROnPlateau reducing learning rate to 1.5258788721439487e-07.\n",
      "Epoch 25/50\n",
      "1382/1382 [==============================] - 255s 184ms/step - loss: 0.4751 - accuracy: 0.7707 - val_loss: 0.5173 - val_accuracy: 0.7463\n",
      "\n",
      "Epoch 00025: saving model to weights_4.best.hdf1\n"
     ]
    },
    {
     "name": "stderr",
     "output_type": "stream",
     "text": [
      "WARNING:absl:Function `_wrapped_model` contains input name(s) Comment, Numerical with unsupported characters which will be renamed to comment, numerical in the SavedModel.\n",
      "WARNING:absl:Found untraced functions such as lstm_cell_2_layer_call_fn, lstm_cell_2_layer_call_and_return_conditional_losses, lstm_cell_3_layer_call_fn, lstm_cell_3_layer_call_and_return_conditional_losses, lstm_cell_2_layer_call_fn while saving (showing 5 of 10). These functions will not be directly callable after loading.\n"
     ]
    },
    {
     "name": "stdout",
     "output_type": "stream",
     "text": [
      "INFO:tensorflow:Assets written to: weights_4.best.hdf1/assets\n"
     ]
    },
    {
     "name": "stderr",
     "output_type": "stream",
     "text": [
      "INFO:tensorflow:Assets written to: weights_4.best.hdf1/assets\n"
     ]
    },
    {
     "name": "stdout",
     "output_type": "stream",
     "text": [
      "Epoch 00025: early stopping\n"
     ]
    }
   ],
   "source": [
    "hitory4=model4.fit(x=X_train,y=y_train,epochs=50,batch_size=512,validation_data=(X_test, y_test),callbacks=callbacks)"
   ]
  },
  {
   "cell_type": "code",
   "execution_count": 73,
   "id": "GkeVYHciq_vk",
   "metadata": {
    "colab": {
     "base_uri": "https://localhost:8080/",
     "height": 287
    },
    "id": "GkeVYHciq_vk",
    "outputId": "822637bb-60ef-4e58-d86d-e27100940c6a"
   },
   "outputs": [
    {
     "data": {
      "image/png": "[encoded data removed]",
      "text/plain": [
       "<Figure size 2160x360 with 2 Axes>"
      ]
     },
     "metadata": {
      "needs_background": "light"
     },
     "output_type": "display_data"
    }
   ],
   "source": [
    "import matplotlib.pyplot as plt\n",
    "plt.figure(figsize=(30, 5))\n",
    "plt.subplot(121)\n",
    "plt.plot(hitory4.history['loss'])\n",
    "plt.plot(hitory4.history['val_loss'])\n",
    "plt.title('Model Loss')\n",
    "plt.ylabel('loss')\n",
    "plt.xlabel('Epoch')\n",
    "plt.legend(['Train', 'Test'], loc='upper left')\n",
    "\n",
    "# Plot training & validation f1_score\n",
    "plt.subplot(122)\n",
    "plt.plot(hitory4.history['accuracy'])\n",
    "plt.plot(hitory4.history['val_accuracy'])\n",
    "plt.title('Model Accuracy')\n",
    "plt.ylabel('accuracy')\n",
    "plt.xlabel('Epoch')\n",
    "plt.legend(['Train', 'Test'], loc='upper left')\n",
    "plt.show()"
   ]
  },
  {
   "cell_type": "code",
   "execution_count": null,
   "id": "OudaSlJNElQI",
   "metadata": {
    "id": "OudaSlJNElQI"
   },
   "outputs": [],
   "source": []
  }
 ],
 "metadata": {
  "accelerator": "GPU",
  "colab": {
   "machine_shape": "hm",
   "name": "Deep_lerning_LSTM.ipynb",
   "provenance": []
  },
  "kernelspec": {
   "display_name": "Python 3.8 (tensorflow)",
   "language": "python",
   "name": "tensorflow"
  },
  "language_info": {
   "codemirror_mode": {
    "name": "ipython",
    "version": 3
   },
   "file_extension": ".py",
   "mimetype": "text/x-python",
   "name": "python",
   "nbconvert_exporter": "python",
   "pygments_lexer": "ipython3",
   "version": "3.8.10"
  }
 },
 "nbformat": 4,
 "nbformat_minor": 5
}
