{
 "cells": [
  {
   "cell_type": "markdown",
   "id": "f021b67e",
   "metadata": {
    "id": "f021b67e"
   },
   "source": [
    "## Machine Learning"
   ]
  },
  {
   "cell_type": "code",
   "execution_count": 1,
   "id": "4cebb9e8",
   "metadata": {
    "id": "4cebb9e8"
   },
   "outputs": [],
   "source": [
    "import warnings\n",
    "\n",
    "warnings.filterwarnings(\"ignore\")\n",
    "# Libraries to help with reading and manipulating data\n",
    "import pandas as pd\n",
    "import numpy as np\n",
    "\n",
    "# libaries to help with data visualization\n",
    "import matplotlib.pyplot as plt\n",
    "import seaborn as sns\n",
    "\n",
    "# Libraries to tune model, get different metric scores, and split data.\n",
    "from sklearn import metrics\n",
    "from sklearn.model_selection import train_test_split, StratifiedKFold, cross_val_score\n",
    "from sklearn.preprocessing import StandardScaler\n",
    "from sklearn.model_selection import GridSearchCV, RandomizedSearchCV\n",
    "\n",
    "#libraries to help with model building\n",
    "from sklearn.ensemble import (\n",
    "    AdaBoostRegressor,\n",
    "    GradientBoostingRegressor,\n",
    "    RandomForestRegressor,\n",
    "    BaggingRegressor)\n",
    "from xgboost import XGBRegressor\n",
    "from sklearn.tree import DecisionTreeRegressor\n",
    "from collections import Counter\n",
    "from wordcloud import WordCloud, STOPWORDS\n",
    "from sklearn.linear_model import LogisticRegression\n",
    "from sklearn.ensemble import RandomForestClassifier\n",
    "from sklearn.tree import DecisionTreeClassifier, export_graphviz\n",
    "from sklearn import metrics\n",
    "warnings.filterwarnings(\"ignore\")\n",
    "# Libraries to help with reading and manipulating data\n",
    "import pandas as pd\n",
    "import numpy as np\n",
    "\n",
    "# libaries to help with data visualization\n",
    "import matplotlib.pyplot as plt\n",
    "import seaborn as sns\n",
    "\n",
    "# Libraries to tune model, get different metric scores, and split data\n",
    "from sklearn import metrics\n",
    "from sklearn.model_selection import train_test_split, StratifiedKFold, cross_val_score\n",
    "from sklearn.preprocessing import StandardScaler\n",
    "from sklearn.model_selection import GridSearchCV, RandomizedSearchCV\n",
    "\n",
    "from sklearn.impute import KNNImputer\n",
    "from sklearn.pipeline import Pipeline, make_pipeline\n",
    "\n",
    "#libraries to help with model building\n",
    "from sklearn.linear_model import LogisticRegression\n",
    "from sklearn.tree import DecisionTreeClassifier\n",
    "from sklearn.ensemble import (\n",
    "    AdaBoostClassifier,\n",
    "    GradientBoostingClassifier,\n",
    "    RandomForestClassifier,\n",
    "    BaggingClassifier)\n",
    "from xgboost import XGBClassifier\n",
    "\n",
    "# to suppress scientifiv notations\n",
    "pd.set_option('display.float_format', lambda x: '%.3f' % x)"
   ]
  },
  {
   "cell_type": "code",
   "execution_count": 2,
   "id": "oMppRTPvX9EZ",
   "metadata": {
    "colab": {
     "base_uri": "https://localhost:8080/"
    },
    "id": "oMppRTPvX9EZ",
    "outputId": "46d12ba0-0f23-4495-965e-2be6a96b0aa3"
   },
   "outputs": [
    {
     "name": "stdout",
     "output_type": "stream",
     "text": [
      "Mounted at /content/gdrive\n"
     ]
    }
   ],
   "source": [
    "from google.colab import drive\n",
    "drive.mount('/content/gdrive')"
   ]
  },
  {
   "cell_type": "code",
   "execution_count": 3,
   "id": "d4517a18",
   "metadata": {
    "colab": {
     "base_uri": "https://localhost:8080/",
     "height": 202
    },
    "id": "d4517a18",
    "outputId": "27015d56-15d5-4dbb-89d3-b646773bffb1"
   },
   "outputs": [
    {
     "data": {
      "text/html": [
       "<div>\n",
       "<style scoped>\n",
       "    .dataframe tbody tr th:only-of-type {\n",
       "        vertical-align: middle;\n",
       "    }\n",
       "\n",
       "    .dataframe tbody tr th {\n",
       "        vertical-align: top;\n",
       "    }\n",
       "\n",
       "    .dataframe thead th {\n",
       "        text-align: right;\n",
       "    }\n",
       "</style>\n",
       "<table border=\"1\" class=\"dataframe\">\n",
       "  <thead>\n",
       "    <tr style=\"text-align: right;\">\n",
       "      <th></th>\n",
       "      <th>label</th>\n",
       "      <th>comment</th>\n",
       "      <th>author</th>\n",
       "      <th>subreddit</th>\n",
       "      <th>score</th>\n",
       "      <th>ups</th>\n",
       "      <th>downs</th>\n",
       "      <th>date</th>\n",
       "      <th>created_utc</th>\n",
       "      <th>parent_comment</th>\n",
       "    </tr>\n",
       "  </thead>\n",
       "  <tbody>\n",
       "    <tr>\n",
       "      <th>0</th>\n",
       "      <td>0</td>\n",
       "      <td>NC and NH.</td>\n",
       "      <td>Trumpbart</td>\n",
       "      <td>politics</td>\n",
       "      <td>2</td>\n",
       "      <td>-1</td>\n",
       "      <td>-1</td>\n",
       "      <td>2016-10</td>\n",
       "      <td>2016-10-16 23:55:23</td>\n",
       "      <td>Yeah, I get that argument. At this point, I'd ...</td>\n",
       "    </tr>\n",
       "    <tr>\n",
       "      <th>1</th>\n",
       "      <td>0</td>\n",
       "      <td>You do know west teams play against west teams...</td>\n",
       "      <td>Shbshb906</td>\n",
       "      <td>nba</td>\n",
       "      <td>-4</td>\n",
       "      <td>-1</td>\n",
       "      <td>-1</td>\n",
       "      <td>2016-11</td>\n",
       "      <td>2016-11-01 00:24:10</td>\n",
       "      <td>The blazers and Mavericks (The wests 5 and 6 s...</td>\n",
       "    </tr>\n",
       "    <tr>\n",
       "      <th>2</th>\n",
       "      <td>0</td>\n",
       "      <td>They were underdogs earlier today, but since G...</td>\n",
       "      <td>Creepeth</td>\n",
       "      <td>nfl</td>\n",
       "      <td>3</td>\n",
       "      <td>3</td>\n",
       "      <td>0</td>\n",
       "      <td>2016-09</td>\n",
       "      <td>2016-09-22 21:45:37</td>\n",
       "      <td>They're favored to win.</td>\n",
       "    </tr>\n",
       "    <tr>\n",
       "      <th>3</th>\n",
       "      <td>0</td>\n",
       "      <td>This meme isn't funny none of the \"new york ni...</td>\n",
       "      <td>icebrotha</td>\n",
       "      <td>BlackPeopleTwitter</td>\n",
       "      <td>-8</td>\n",
       "      <td>-1</td>\n",
       "      <td>-1</td>\n",
       "      <td>2016-10</td>\n",
       "      <td>2016-10-18 21:03:47</td>\n",
       "      <td>deadass don't kill my buzz</td>\n",
       "    </tr>\n",
       "    <tr>\n",
       "      <th>4</th>\n",
       "      <td>0</td>\n",
       "      <td>I could use one of those tools.</td>\n",
       "      <td>cush2push</td>\n",
       "      <td>MaddenUltimateTeam</td>\n",
       "      <td>6</td>\n",
       "      <td>-1</td>\n",
       "      <td>-1</td>\n",
       "      <td>2016-12</td>\n",
       "      <td>2016-12-30 17:00:13</td>\n",
       "      <td>Yep can confirm I saw the tool they use for th...</td>\n",
       "    </tr>\n",
       "  </tbody>\n",
       "</table>\n",
       "</div>"
      ],
      "text/plain": [
       "   label  ...                                     parent_comment\n",
       "0      0  ...  Yeah, I get that argument. At this point, I'd ...\n",
       "1      0  ...  The blazers and Mavericks (The wests 5 and 6 s...\n",
       "2      0  ...                            They're favored to win.\n",
       "3      0  ...                         deadass don't kill my buzz\n",
       "4      0  ...  Yep can confirm I saw the tool they use for th...\n",
       "\n",
       "[5 rows x 10 columns]"
      ]
     },
     "execution_count": 3,
     "metadata": {},
     "output_type": "execute_result"
    }
   ],
   "source": [
    "import pandas as pd\n",
    "data=pd.read_csv('/content/gdrive/MyDrive/Case Study-2(Sarcastic Comments-REDDIT)/train-balanced-sarcasm.csv')\n",
    "data.head()"
   ]
  },
  {
   "cell_type": "code",
   "execution_count": 4,
   "id": "92cf57b9",
   "metadata": {
    "colab": {
     "base_uri": "https://localhost:8080/"
    },
    "id": "92cf57b9",
    "outputId": "8b390cce-b2dc-47df-9251-c6577f563755"
   },
   "outputs": [
    {
     "data": {
      "text/plain": [
       "label              0\n",
       "comment           53\n",
       "author             0\n",
       "subreddit          0\n",
       "score              0\n",
       "ups                0\n",
       "downs              0\n",
       "date               0\n",
       "created_utc        0\n",
       "parent_comment     0\n",
       "dtype: int64"
      ]
     },
     "execution_count": 4,
     "metadata": {},
     "output_type": "execute_result"
    }
   ],
   "source": [
    "data.isnull().sum()"
   ]
  },
  {
   "cell_type": "code",
   "execution_count": 5,
   "id": "93f31ddc",
   "metadata": {
    "id": "93f31ddc"
   },
   "outputs": [],
   "source": [
    "data['comment']=data['comment'].fillna('No Comment')"
   ]
  },
  {
   "cell_type": "code",
   "execution_count": 6,
   "id": "79af9648",
   "metadata": {
    "id": "79af9648"
   },
   "outputs": [],
   "source": [
    "# Remove Emoji\n",
    "def deEmojify(text):\n",
    "    regrex_pattern = re.compile(pattern = \"[\"\n",
    "        u\"\\U0001F600-\\U0001F64F\"  # emoticons\n",
    "        u\"\\U0001F300-\\U0001F5FF\"  # symbols & pictographs\n",
    "        u\"\\U0001F680-\\U0001F6FF\"  # transport & map symbols\n",
    "        u\"\\U0001F1E0-\\U0001F1FF\"  # flags (iOS)\n",
    "                           \"]+\", flags = re.UNICODE)\n",
    "    return regrex_pattern.sub(r'',text)"
   ]
  },
  {
   "cell_type": "code",
   "execution_count": 7,
   "id": "6ff6919c",
   "metadata": {
    "id": "6ff6919c"
   },
   "outputs": [],
   "source": [
    "def decontractions(phrase):\n",
    "    \"\"\"decontracted takes text and convert contractions into natural form.\n",
    "     ref: https://stackoverflow.com/questions/19790188/expanding-english-language-contractions-in-python/47091490#47091490\"\"\"\n",
    "    # specific\n",
    "    phrase = re.sub(r\"won\\'t\", \"will not\", phrase)\n",
    "    phrase = re.sub(r\"can\\'t\", \"can not\", phrase)\n",
    "    phrase = re.sub(r\"won\\’t\", \"will not\", phrase)\n",
    "    phrase = re.sub(r\"can\\’t\", \"can not\", phrase)\n",
    "\n",
    "    # general\n",
    "    phrase = re.sub(r\"n\\'t\", \" not\", phrase)\n",
    "    phrase = re.sub(r\"\\'re\", \" are\", phrase)\n",
    "    phrase = re.sub(r\"\\'s\", \" is\", phrase)\n",
    "    phrase = re.sub(r\"\\'d\", \" would\", phrase)\n",
    "    phrase = re.sub(r\"\\'ll\", \" will\", phrase)\n",
    "    phrase = re.sub(r\"\\'t\", \" not\", phrase)\n",
    "    phrase = re.sub(r\"\\'ve\", \" have\", phrase)\n",
    "    phrase = re.sub(r\"\\'m\", \" am\", phrase)\n",
    "\n",
    "    phrase = re.sub(r\"n\\’t\", \" not\", phrase)\n",
    "    phrase = re.sub(r\"\\’re\", \" are\", phrase)\n",
    "    phrase = re.sub(r\"\\’s\", \" is\", phrase)\n",
    "    phrase = re.sub(r\"\\’d\", \" would\", phrase)\n",
    "    phrase = re.sub(r\"\\’ll\", \" will\", phrase)\n",
    "    phrase = re.sub(r\"\\’t\", \" not\", phrase)\n",
    "    phrase = re.sub(r\"\\’ve\", \" have\", phrase)\n",
    "    phrase = re.sub(r\"\\’m\", \" am\", phrase)\n",
    "\n",
    "    return phrase"
   ]
  },
  {
   "cell_type": "code",
   "execution_count": 8,
   "id": "Zk8aWj1KYb8L",
   "metadata": {
    "colab": {
     "base_uri": "https://localhost:8080/"
    },
    "id": "Zk8aWj1KYb8L",
    "outputId": "ccf52a82-08ed-43a3-ea76-9205739ce827"
   },
   "outputs": [
    {
     "name": "stdout",
     "output_type": "stream",
     "text": [
      "[nltk_data] Downloading package stopwords to /root/nltk_data...\n",
      "[nltk_data]   Unzipping corpora/stopwords.zip.\n"
     ]
    },
    {
     "data": {
      "text/plain": [
       "True"
      ]
     },
     "execution_count": 8,
     "metadata": {},
     "output_type": "execute_result"
    }
   ],
   "source": [
    "import nltk\n",
    "nltk.download('stopwords')"
   ]
  },
  {
   "cell_type": "code",
   "execution_count": 9,
   "id": "d1832119",
   "metadata": {
    "id": "d1832119"
   },
   "outputs": [],
   "source": [
    "from nltk.corpus import stopwords\n",
    "from tqdm import tqdm\n",
    "import re\n",
    "stopwords = stopwords.words('english')\n",
    "def preprocess(text_col,stopword):\n",
    "    preprocessed = []\n",
    "    for sentence in tqdm(text_col.values):\n",
    "        # Replace \"carriage return\" with \"space\".\n",
    "        sentence=str(sentence)\n",
    "        sent = sentence.replace('\\\\r', ' ')\n",
    "        # Replace \"quotes\" with \"space\".\n",
    "        sent = sent.replace('\\\\\"', ' ')\n",
    "        # Replace \"line feed\" with \"space\".\n",
    "        sent = sent.replace('\\\\n', ' ')\n",
    "        # Replace characters between words with \"space\".\n",
    "        sent = re.sub('[^A-Za-z0-9]+', ' ', sent)\n",
    "        #remove stop words\n",
    "        #decontraction\n",
    "        sent=decontractions(sent)\n",
    "        #Remove emoji\n",
    "        sent=deEmojify(sent)\n",
    "        if stopword:\n",
    "            sent = ' '.join(e for e in sent.split() if e not in stopwords)\n",
    "        else:\n",
    "           sent = ' '.join(e for e in sent.split())\n",
    "        # to lowercase\n",
    "        preprocessed.append(sent.lower().strip())\n",
    "    return preprocessed"
   ]
  },
  {
   "cell_type": "code",
   "execution_count": 10,
   "id": "7c7a5327",
   "metadata": {
    "colab": {
     "base_uri": "https://localhost:8080/"
    },
    "id": "7c7a5327",
    "outputId": "ab8117c3-93ea-413e-ca81-40a020b1bacd"
   },
   "outputs": [
    {
     "name": "stderr",
     "output_type": "stream",
     "text": [
      "100%|██████████| 1010826/1010826 [00:28<00:00, 35773.66it/s]\n"
     ]
    }
   ],
   "source": [
    "data['comment']=preprocess(data['comment'],stopword=False)"
   ]
  },
  {
   "cell_type": "code",
   "execution_count": 11,
   "id": "317c0268",
   "metadata": {
    "colab": {
     "base_uri": "https://localhost:8080/"
    },
    "id": "317c0268",
    "outputId": "6ab87dfb-b41b-4698-b24e-542d0705bdbe"
   },
   "outputs": [
    {
     "name": "stderr",
     "output_type": "stream",
     "text": [
      "100%|██████████| 1010826/1010826 [00:35<00:00, 28222.92it/s]\n"
     ]
    }
   ],
   "source": [
    "data['parent_comment']=preprocess(data['parent_comment'],stopword=False)"
   ]
  },
  {
   "cell_type": "code",
   "execution_count": 12,
   "id": "2eba4c80",
   "metadata": {
    "colab": {
     "base_uri": "https://localhost:8080/"
    },
    "id": "2eba4c80",
    "outputId": "4aae9e46-10ca-4516-9eb4-e4a2f8075ac9"
   },
   "outputs": [
    {
     "data": {
      "text/plain": [
       "label             0\n",
       "comment           0\n",
       "author            0\n",
       "subreddit         0\n",
       "score             0\n",
       "ups               0\n",
       "downs             0\n",
       "date              0\n",
       "created_utc       0\n",
       "parent_comment    0\n",
       "dtype: int64"
      ]
     },
     "execution_count": 12,
     "metadata": {},
     "output_type": "execute_result"
    }
   ],
   "source": [
    "data.isnull().sum()"
   ]
  },
  {
   "cell_type": "code",
   "execution_count": 13,
   "id": "bfgb3ize9dyl",
   "metadata": {
    "colab": {
     "base_uri": "https://localhost:8080/"
    },
    "id": "bfgb3ize9dyl",
    "outputId": "f7c5cf4f-3407-48b8-ae8d-b1a3a72e93d9"
   },
   "outputs": [
    {
     "name": "stdout",
     "output_type": "stream",
     "text": [
      "[nltk_data] Downloading package vader_lexicon to /root/nltk_data...\n"
     ]
    },
    {
     "data": {
      "text/plain": [
       "True"
      ]
     },
     "execution_count": 13,
     "metadata": {},
     "output_type": "execute_result"
    }
   ],
   "source": [
    "import nltk\n",
    "nltk.download('vader_lexicon')"
   ]
  },
  {
   "cell_type": "markdown",
   "id": "uUr78WCH97Vi",
   "metadata": {
    "id": "uUr78WCH97Vi"
   },
   "source": [
    "Polarity Score"
   ]
  },
  {
   "cell_type": "code",
   "execution_count": 14,
   "id": "xdXUDWG08mt2",
   "metadata": {
    "id": "xdXUDWG08mt2"
   },
   "outputs": [],
   "source": [
    "import nltk\n",
    "from tqdm import tqdm\n",
    "from nltk.sentiment.vader import SentimentIntensityAnalyzer\n",
    "def generate_sentiment_scores(data):\n",
    "    sid = SentimentIntensityAnalyzer()\n",
    "    neg=[]\n",
    "    pos=[]\n",
    "    neu=[]\n",
    "    comp=[]\n",
    "    for sentence in tqdm(data['parent_comment'].values): \n",
    "        sentence_sentiment_score = sid.polarity_scores(sentence)\n",
    "        comp.append(sentence_sentiment_score['compound'])\n",
    "        neg.append(sentence_sentiment_score['neg'])\n",
    "        pos.append(sentence_sentiment_score['pos'])\n",
    "        neu.append(sentence_sentiment_score['neu'])\n",
    "    return comp,neg,pos,neu"
   ]
  },
  {
   "cell_type": "code",
   "execution_count": 15,
   "id": "0YNG6kBJ9Lt3",
   "metadata": {
    "colab": {
     "base_uri": "https://localhost:8080/"
    },
    "id": "0YNG6kBJ9Lt3",
    "outputId": "a908207a-8a38-4e2b-8148-0b7f521af0a2"
   },
   "outputs": [
    {
     "name": "stderr",
     "output_type": "stream",
     "text": [
      "100%|██████████| 1010826/1010826 [04:45<00:00, 3544.94it/s]\n"
     ]
    }
   ],
   "source": [
    "data['compound'],data['negative'],data['positive'],data['neutral']=generate_sentiment_scores(data)"
   ]
  },
  {
   "cell_type": "code",
   "execution_count": 16,
   "id": "xytZ-DUM9ng5",
   "metadata": {
    "id": "xytZ-DUM9ng5"
   },
   "outputs": [],
   "source": [
    "data['com_len']=data['comment'].apply(lambda x:len(x.split()))"
   ]
  },
  {
   "cell_type": "code",
   "execution_count": 17,
   "id": "pQH7iiAd90XH",
   "metadata": {
    "id": "pQH7iiAd90XH"
   },
   "outputs": [],
   "source": [
    "data['parent_com_len']=data['parent_comment'].apply(lambda x:len(x.split()))"
   ]
  },
  {
   "cell_type": "code",
   "execution_count": 18,
   "id": "0e968b68",
   "metadata": {
    "id": "0e968b68"
   },
   "outputs": [],
   "source": [
    "y=data['label']\n",
    "X=data.drop(['label','date','created_utc'],axis=1)"
   ]
  },
  {
   "cell_type": "code",
   "execution_count": 19,
   "id": "2477ed82",
   "metadata": {
    "id": "2477ed82"
   },
   "outputs": [],
   "source": [
    "X_train,X_test,y_train,y_test=train_test_split(X,y,test_size=0.3,random_state=42,stratify=y)"
   ]
  },
  {
   "cell_type": "code",
   "execution_count": 20,
   "id": "92f244b4",
   "metadata": {
    "colab": {
     "base_uri": "https://localhost:8080/"
    },
    "id": "92f244b4",
    "outputId": "95db1a8b-d216-4a40-e4db-ab041f9f5172"
   },
   "outputs": [
    {
     "name": "stdout",
     "output_type": "stream",
     "text": [
      "CPU times: user 35.5 s, sys: 865 ms, total: 36.3 s\n",
      "Wall time: 36.2 s\n"
     ]
    }
   ],
   "source": [
    "%%time\n",
    "from sklearn.feature_extraction.text import TfidfVectorizer\n",
    "from sklearn.feature_extraction.text import CountVectorizer\n",
    "vec = tfidf_desc = TfidfVectorizer(max_features=200000, ngram_range=(1, 3), stop_words='english')\n",
    "X_train_comment = vec.fit_transform(X_train['comment'])\n",
    "X_test_comment = vec.transform(X_test['comment'])"
   ]
  },
  {
   "cell_type": "code",
   "execution_count": 21,
   "id": "5_M2bCskZBw5",
   "metadata": {
    "colab": {
     "base_uri": "https://localhost:8080/"
    },
    "id": "5_M2bCskZBw5",
    "outputId": "e57695a1-f6b7-4ea3-f6a7-2250b72224b7"
   },
   "outputs": [
    {
     "name": "stdout",
     "output_type": "stream",
     "text": [
      "(707578, 200000)\n"
     ]
    }
   ],
   "source": [
    "print(X_train_comment.shape)"
   ]
  },
  {
   "cell_type": "code",
   "execution_count": 22,
   "id": "07a72f15",
   "metadata": {
    "colab": {
     "base_uri": "https://localhost:8080/"
    },
    "id": "07a72f15",
    "outputId": "60d871c5-befd-4be7-c22b-1faef1fe2cda"
   },
   "outputs": [
    {
     "name": "stdout",
     "output_type": "stream",
     "text": [
      "CPU times: user 1min 31s, sys: 2.3 s, total: 1min 33s\n",
      "Wall time: 1min 33s\n"
     ]
    }
   ],
   "source": [
    "%%time\n",
    "vec = tfidf_desc = TfidfVectorizer(max_features=200000, ngram_range=(1, 3), stop_words='english')\n",
    "X_train_parent = vec.fit_transform(X_train['parent_comment'])\n",
    "X_test_parent = vec.transform(X_test['parent_comment'])"
   ]
  },
  {
   "cell_type": "code",
   "execution_count": 23,
   "id": "bc8d4068",
   "metadata": {
    "colab": {
     "base_uri": "https://localhost:8080/"
    },
    "id": "bc8d4068",
    "outputId": "fdde952c-7178-4aaf-aae6-31073af2b4a9"
   },
   "outputs": [
    {
     "name": "stdout",
     "output_type": "stream",
     "text": [
      "CPU times: user 5.62 s, sys: 94.3 ms, total: 5.71 s\n",
      "Wall time: 5.68 s\n"
     ]
    }
   ],
   "source": [
    "%%time\n",
    "from sklearn.preprocessing import LabelBinarizer\n",
    "lb_brand_author = vec = tfidf_desc = TfidfVectorizer()\n",
    "X_train_author = lb_brand_author.fit_transform(X_train['author'])\n",
    "X_test_author = lb_brand_author.transform(X_test['author'])"
   ]
  },
  {
   "cell_type": "code",
   "execution_count": 24,
   "id": "3a3b9406",
   "metadata": {
    "colab": {
     "base_uri": "https://localhost:8080/"
    },
    "id": "3a3b9406",
    "outputId": "13c8d04e-fecb-42bf-87fd-96457c9ca128"
   },
   "outputs": [
    {
     "name": "stdout",
     "output_type": "stream",
     "text": [
      "CPU times: user 3.04 s, sys: 8.84 ms, total: 3.05 s\n",
      "Wall time: 3.04 s\n"
     ]
    }
   ],
   "source": [
    "%%time\n",
    "from sklearn.preprocessing import LabelBinarizer\n",
    "lb_brand_subreddit = LabelBinarizer(sparse_output=True)\n",
    "X_train_subreddit = lb_brand_author.fit_transform(X_train['subreddit'])\n",
    "X_test_subreddit = lb_brand_author.transform(X_test['subreddit'])"
   ]
  },
  {
   "cell_type": "code",
   "execution_count": 25,
   "id": "567f61bd",
   "metadata": {
    "colab": {
     "base_uri": "https://localhost:8080/"
    },
    "id": "567f61bd",
    "outputId": "073ed44f-3d83-4bb5-85da-26f0aec60003"
   },
   "outputs": [
    {
     "name": "stdout",
     "output_type": "stream",
     "text": [
      "CPU times: user 14.6 ms, sys: 0 ns, total: 14.6 ms\n",
      "Wall time: 14 ms\n"
     ]
    }
   ],
   "source": [
    "%%time\n",
    "from sklearn.preprocessing import Normalizer\n",
    "trans = Normalizer()\n",
    "X_train_score=trans.fit_transform(X_train['score'].values.reshape(-1,1))\n",
    "X_test_score=trans.transform(X_test['score'].values.reshape(-1,1))"
   ]
  },
  {
   "cell_type": "code",
   "execution_count": 26,
   "id": "3bf9e765",
   "metadata": {
    "colab": {
     "base_uri": "https://localhost:8080/"
    },
    "id": "3bf9e765",
    "outputId": "df2be458-4518-4294-bc05-3d50ca829813"
   },
   "outputs": [
    {
     "name": "stdout",
     "output_type": "stream",
     "text": [
      "CPU times: user 12 ms, sys: 2.01 ms, total: 14 ms\n",
      "Wall time: 13.4 ms\n"
     ]
    }
   ],
   "source": [
    "%%time\n",
    "trans = Normalizer()\n",
    "X_train_ups=trans.fit_transform(X_train['ups'].values.reshape(-1,1))\n",
    "X_test_ups=trans.transform(X_test['ups'].values.reshape(-1,1))"
   ]
  },
  {
   "cell_type": "code",
   "execution_count": 27,
   "id": "246001b5",
   "metadata": {
    "colab": {
     "base_uri": "https://localhost:8080/"
    },
    "id": "246001b5",
    "outputId": "c28e17f2-45e5-4daf-9d0c-522d706b91cb"
   },
   "outputs": [
    {
     "name": "stdout",
     "output_type": "stream",
     "text": [
      "CPU times: user 15.4 ms, sys: 0 ns, total: 15.4 ms\n",
      "Wall time: 14.8 ms\n"
     ]
    }
   ],
   "source": [
    "%%time\n",
    "trans = Normalizer()\n",
    "X_train_downs=trans.fit_transform(X_train['downs'].values.reshape(-1,1))\n",
    "X_test_downs=trans.transform(X_test['downs'].values.reshape(-1,1))"
   ]
  },
  {
   "cell_type": "code",
   "execution_count": 28,
   "id": "8fSL8b95-U6W",
   "metadata": {
    "colab": {
     "base_uri": "https://localhost:8080/"
    },
    "id": "8fSL8b95-U6W",
    "outputId": "94ade174-b82e-4bdd-eb51-273904738b32"
   },
   "outputs": [
    {
     "name": "stdout",
     "output_type": "stream",
     "text": [
      "CPU times: user 20.3 ms, sys: 2.01 ms, total: 22.3 ms\n",
      "Wall time: 21.4 ms\n"
     ]
    }
   ],
   "source": [
    "%%time\n",
    "trans = Normalizer()\n",
    "X_train_comp=trans.fit_transform(X_train['compound'].values.reshape(-1,1))\n",
    "X_test_comp=trans.transform(X_test['compound'].values.reshape(-1,1))"
   ]
  },
  {
   "cell_type": "code",
   "execution_count": 29,
   "id": "2PrLRZ9-_VrM",
   "metadata": {
    "colab": {
     "base_uri": "https://localhost:8080/"
    },
    "id": "2PrLRZ9-_VrM",
    "outputId": "b973b067-140b-4e05-d3b9-2be044d2f20e"
   },
   "outputs": [
    {
     "name": "stdout",
     "output_type": "stream",
     "text": [
      "CPU times: user 19.9 ms, sys: 1.99 ms, total: 21.9 ms\n",
      "Wall time: 21.4 ms\n"
     ]
    }
   ],
   "source": [
    "%%time\n",
    "trans = Normalizer()\n",
    "X_train_neg=trans.fit_transform(X_train['negative'].values.reshape(-1,1))\n",
    "X_test_neg=trans.transform(X_test['negative'].values.reshape(-1,1))"
   ]
  },
  {
   "cell_type": "code",
   "execution_count": 30,
   "id": "Vno_GyMh_qf3",
   "metadata": {
    "colab": {
     "base_uri": "https://localhost:8080/"
    },
    "id": "Vno_GyMh_qf3",
    "outputId": "f2c84900-89d5-46dd-e723-35ebc40200b2"
   },
   "outputs": [
    {
     "name": "stdout",
     "output_type": "stream",
     "text": [
      "CPU times: user 20.8 ms, sys: 2 ms, total: 22.8 ms\n",
      "Wall time: 22.2 ms\n"
     ]
    }
   ],
   "source": [
    "%%time\n",
    "trans = Normalizer()\n",
    "X_train_pos=trans.fit_transform(X_train['positive'].values.reshape(-1,1))\n",
    "X_test_pos=trans.transform(X_test['positive'].values.reshape(-1,1))"
   ]
  },
  {
   "cell_type": "code",
   "execution_count": 31,
   "id": "N-8eYj14_x-5",
   "metadata": {
    "colab": {
     "base_uri": "https://localhost:8080/"
    },
    "id": "N-8eYj14_x-5",
    "outputId": "5ad89150-d5c7-4eba-e3bc-841b5de13dad"
   },
   "outputs": [
    {
     "name": "stdout",
     "output_type": "stream",
     "text": [
      "CPU times: user 14.5 ms, sys: 2 ms, total: 16.5 ms\n",
      "Wall time: 16.2 ms\n"
     ]
    }
   ],
   "source": [
    "%%time\n",
    "trans = Normalizer()\n",
    "X_train_neu=trans.fit_transform(X_train['neutral'].values.reshape(-1,1))\n",
    "X_test_neu=trans.transform(X_test['neutral'].values.reshape(-1,1))"
   ]
  },
  {
   "cell_type": "code",
   "execution_count": 32,
   "id": "JIohW6CN_6v_",
   "metadata": {
    "colab": {
     "base_uri": "https://localhost:8080/"
    },
    "id": "JIohW6CN_6v_",
    "outputId": "575ad7b8-76b7-49b5-defb-34b22be8055f"
   },
   "outputs": [
    {
     "name": "stdout",
     "output_type": "stream",
     "text": [
      "CPU times: user 13.2 ms, sys: 2.01 ms, total: 15.2 ms\n",
      "Wall time: 14.6 ms\n"
     ]
    }
   ],
   "source": [
    "%%time\n",
    "trans = Normalizer()\n",
    "X_train_com_len=trans.fit_transform(X_train['com_len'].values.reshape(-1,1))\n",
    "X_test_com_len=trans.transform(X_test['com_len'].values.reshape(-1,1))"
   ]
  },
  {
   "cell_type": "code",
   "execution_count": 33,
   "id": "GgcrfJxWAKqk",
   "metadata": {
    "colab": {
     "base_uri": "https://localhost:8080/"
    },
    "id": "GgcrfJxWAKqk",
    "outputId": "1b796365-f245-4b60-8242-c38ca783af3f"
   },
   "outputs": [
    {
     "name": "stdout",
     "output_type": "stream",
     "text": [
      "CPU times: user 14.6 ms, sys: 1.02 ms, total: 15.6 ms\n",
      "Wall time: 14.4 ms\n"
     ]
    }
   ],
   "source": [
    "%%time\n",
    "trans = Normalizer()\n",
    "X_train_parent_com_len=trans.fit_transform(X_train['parent_com_len'].values.reshape(-1,1))\n",
    "X_test_parent_com_len=trans.transform(X_test['parent_com_len'].values.reshape(-1,1))"
   ]
  },
  {
   "cell_type": "code",
   "execution_count": 34,
   "id": "d9726079",
   "metadata": {
    "colab": {
     "base_uri": "https://localhost:8080/"
    },
    "id": "d9726079",
    "outputId": "07c1f97e-c7e5-4297-eda3-442a3b86a08c"
   },
   "outputs": [
    {
     "name": "stdout",
     "output_type": "stream",
     "text": [
      "CPU times: user 1.86 s, sys: 62.2 ms, total: 1.92 s\n",
      "Wall time: 1.91 s\n"
     ]
    }
   ],
   "source": [
    "%%time\n",
    "from scipy.sparse import hstack\n",
    "train_s=hstack((X_train_comment,X_train_parent,X_train_author,X_train_subreddit,X_train_score,X_train_ups,X_train_downs,X_train_comp,X_train_neg,X_train_pos,X_train_neu,X_train_com_len,X_train_parent_com_len)).tocsr().astype('float32')\n",
    "test_s=hstack((X_test_comment,X_test_parent,X_test_author,X_test_subreddit,X_test_score,X_test_ups,X_test_downs,X_test_comp,X_test_neg,X_test_pos,X_test_neu,X_test_com_len,X_test_parent_com_len)).tocsr().astype('float32')"
   ]
  },
  {
   "cell_type": "code",
   "execution_count": 35,
   "id": "4a560f86",
   "metadata": {
    "colab": {
     "base_uri": "https://localhost:8080/"
    },
    "id": "4a560f86",
    "outputId": "49facd73-de5c-4e7d-da3d-f0f5d19f0888"
   },
   "outputs": [
    {
     "name": "stdout",
     "output_type": "stream",
     "text": [
      "(707578, 654811) (707578,)\n",
      "(303248, 654811) (303248,)\n"
     ]
    }
   ],
   "source": [
    "print(train_s.shape,y_train.shape)\n",
    "print(test_s.shape,y_test.shape)"
   ]
  },
  {
   "cell_type": "code",
   "execution_count": 36,
   "id": "53eaba1c",
   "metadata": {
    "id": "53eaba1c"
   },
   "outputs": [],
   "source": [
    "def get_metrics_score(model,train,test,train_y,test_y,flag=True):\n",
    "    '''\n",
    "    model : classifier to predict values of X\n",
    "\n",
    "    '''\n",
    "    # defining an empty list to store train and test results\n",
    "    score_list=[] \n",
    "    \n",
    "    pred_train = model.predict(train)\n",
    "    pred_test = model.predict(test)\n",
    "    \n",
    "    train_acc = model.score(train,train_y)\n",
    "    test_acc = model.score(test,test_y)\n",
    "    \n",
    "    train_recall = metrics.recall_score(train_y,pred_train)\n",
    "    test_recall = metrics.recall_score(test_y,pred_test)\n",
    "    \n",
    "    train_precision = metrics.precision_score(train_y,pred_train)\n",
    "    test_precision = metrics.precision_score(test_y,pred_test)\n",
    "    \n",
    "    score_list.extend((train_acc,test_acc,train_recall,test_recall,train_precision,test_precision))\n",
    "        \n",
    "    # If the flag is set to True then only the following print statements will be dispayed. The default value is set to True.\n",
    "    if flag == True: \n",
    "        print(\"Accuracy on training set : \",model.score(train,train_y))\n",
    "        print(\"Accuracy on test set : \",model.score(test,test_y))\n",
    "        print(\"Recall on training set : \",metrics.recall_score(train_y,pred_train))\n",
    "        print(\"Recall on test set : \",metrics.recall_score(test_y,pred_test))\n",
    "        print(\"Precision on training set : \",metrics.precision_score(train_y,pred_train))\n",
    "        print(\"Precision on test set : \",metrics.precision_score(test_y,pred_test))\n",
    "        print(\"log_loss on training set : \",metrics.log_loss(train_y,pred_train))\n",
    "        print(\"log_loss on test set : \",metrics.log_loss(test_y,pred_test))\n",
    "    return score_list # returning the list with train and test scores"
   ]
  },
  {
   "cell_type": "code",
   "execution_count": 37,
   "id": "d4ae2847",
   "metadata": {
    "id": "d4ae2847"
   },
   "outputs": [],
   "source": [
    "def make_confusion_matrix(model,y_actual,labels=[1, 0]):\n",
    "    '''\n",
    "    model : classifier to predict values of X\n",
    "    y_actual : ground truth  \n",
    "    \n",
    "    '''\n",
    "    y_predict = model.predict(test_s)\n",
    "    cm=metrics.confusion_matrix( y_actual, y_predict, labels=[0, 1])\n",
    "    df_cm = pd.DataFrame(cm, index = [i for i in [\"Actual - No\",\"Actual - Yes\"]],\n",
    "                  columns = [i for i in ['Predicted - No','Predicted - Yes']])\n",
    "    group_counts = [\"{0:0.0f}\".format(value) for value in\n",
    "                cm.flatten()]\n",
    "    group_percentages = [\"{0:.2%}\".format(value) for value in\n",
    "                         cm.flatten()/np.sum(cm)]\n",
    "    labels = [f\"{v1}\\n{v2}\" for v1, v2 in\n",
    "              zip(group_counts,group_percentages)]\n",
    "    labels = np.asarray(labels).reshape(2,2)\n",
    "    plt.figure(figsize = (10,7))\n",
    "    sns.heatmap(df_cm, annot=labels,fmt='')\n",
    "    plt.ylabel('True label')\n",
    "    plt.xlabel('Predicted label')"
   ]
  },
  {
   "cell_type": "code",
   "execution_count": 38,
   "id": "5dbe9f96",
   "metadata": {
    "colab": {
     "base_uri": "https://localhost:8080/"
    },
    "id": "5dbe9f96",
    "outputId": "6425001a-32bb-434e-985a-61fb5f33d708"
   },
   "outputs": [
    {
     "name": "stderr",
     "output_type": "stream",
     "text": [
      " 33%|███▎      | 1/3 [02:13<04:27, 133.83s/it]"
     ]
    },
    {
     "name": "stdout",
     "output_type": "stream",
     "text": [
      "logistic: 67.3952549688081\n"
     ]
    },
    {
     "name": "stderr",
     "output_type": "stream",
     "text": [
      "\r",
      " 67%|██████▋   | 2/3 [08:49<04:47, 287.61s/it]"
     ]
    },
    {
     "name": "stdout",
     "output_type": "stream",
     "text": [
      "lgbm: 65.72081094930769\n"
     ]
    },
    {
     "name": "stderr",
     "output_type": "stream",
     "text": [
      "100%|██████████| 3/3 [09:05<00:00, 181.82s/it]"
     ]
    },
    {
     "name": "stdout",
     "output_type": "stream",
     "text": [
      "SGD: 66.17743778479301\n"
     ]
    },
    {
     "name": "stderr",
     "output_type": "stream",
     "text": [
      "\n"
     ]
    }
   ],
   "source": [
    "\n",
    "from tqdm import tqdm\n",
    "from lightgbm import LGBMClassifier\n",
    "from sklearn.linear_model import SGDClassifier\n",
    "from sklearn.linear_model import RidgeClassifier,LassoCV,RidgeClassifierCV\n",
    "from sklearn.metrics import mean_squared_error, make_scorer,mean_squared_log_error\n",
    "models = []  # Empty list to store all the models\n",
    "\n",
    "# Appending pipelines for each model into the list\n",
    "\n",
    "models.append(\n",
    "    (\n",
    "        \"logistic\",\n",
    "        Pipeline(\n",
    "            steps=[\n",
    "                (\"logistic\", LogisticRegression(random_state=1,n_jobs=-1)),\n",
    "            ]\n",
    "        ),\n",
    "    )\n",
    ")\n",
    "\n",
    "\n",
    "models.append(\n",
    "    (\n",
    "        \"lgbm\",\n",
    "        Pipeline(\n",
    "            steps=[\n",
    "                (\"LGBM\", LGBMClassifier(random_state=1)),\n",
    "            ]\n",
    "        ),\n",
    "    )\n",
    ")\n",
    "\n",
    "\n",
    "models.append(\n",
    "    (\n",
    "        \"SGD\",\n",
    "        Pipeline(\n",
    "            steps=[\n",
    "                (\"SGD\", SGDClassifier(random_state=1)),\n",
    "            ]\n",
    "        ),\n",
    "    )\n",
    ")\n",
    "\n",
    "\n",
    "\n",
    "\n",
    "results = []  # Empty list to store all model's CV scores\n",
    "names = []  # Empty list to store name of the models\n",
    "\n",
    "# loop through all models to get the mean cross validated score\n",
    "from tqdm import tqdm\n",
    "for name, model in tqdm(models):\n",
    "    # Setting number of splits equal to 5\n",
    "    scores = cross_val_score(model,train_s,y_train, cv=5,\n",
    "                             scoring='accuracy')\n",
    "    results.append(scores)\n",
    "    names.append(name)\n",
    "    print(\"{}: {}\".format(name, scores.mean() * 100))"
   ]
  },
  {
   "cell_type": "code",
   "execution_count": 39,
   "id": "e15e54f1",
   "metadata": {
    "colab": {
     "base_uri": "https://localhost:8080/",
     "height": 478
    },
    "id": "e15e54f1",
    "outputId": "a83863df-901c-43d5-c788-9f692645c453"
   },
   "outputs": [
    {
     "data": {
      "image/png": "[encoded data removed]",
      "text/plain": [
       "<Figure size 720x504 with 1 Axes>"
      ]
     },
     "metadata": {
      "needs_background": "light"
     },
     "output_type": "display_data"
    }
   ],
   "source": [
    "fig = plt.figure(figsize=(10, 7))\n",
    "\n",
    "fig.suptitle(\"Algorithm Comparison\")\n",
    "\n",
    "\n",
    "\n",
    "\n",
    "ax = fig.add_subplot(111)\n",
    "\n",
    "plt.boxplot(results)\n",
    "ax.set_xticklabels(names)\n",
    "\n",
    "plt.show()"
   ]
  },
  {
   "cell_type": "markdown",
   "id": "8L5y9VwycqLq",
   "metadata": {
    "id": "8L5y9VwycqLq"
   },
   "source": [
    "**Logistic Regression(RandomizedSearchCV)**"
   ]
  },
  {
   "cell_type": "code",
   "execution_count": 40,
   "id": "SMNObx_ANXtE",
   "metadata": {
    "colab": {
     "base_uri": "https://localhost:8080/"
    },
    "id": "SMNObx_ANXtE",
    "outputId": "f78961d1-b2ea-4531-aa77-30ec1358f0ed"
   },
   "outputs": [
    {
     "name": "stdout",
     "output_type": "stream",
     "text": [
      "Tuned Logistic Regression Parameters: {'C': 0.4393970560760795}\n",
      "Best score is 0.6753319067692841\n",
      "CPU times: user 33min 28s, sys: 55min 50s, total: 1h 29min 18s\n",
      "Wall time: 22min 56s\n"
     ]
    }
   ],
   "source": [
    "%%time\n",
    "from sklearn.model_selection import RandomizedSearchCV\n",
    "  \n",
    "c_space = np.logspace(-5, 8, 15)\n",
    "param_grid = {'C': c_space}\n",
    "  \n",
    "logreg = LogisticRegression()\n",
    "  \n",
    "logreg_cv = RandomizedSearchCV(logreg, param_grid, cv = 5)\n",
    "  \n",
    "logreg_cv.fit(train_s, y_train)\n",
    "  \n",
    "# Print the tuned parameters and score\n",
    "print(\"Tuned Logistic Regression Parameters: {}\".format(logreg_cv.best_params_)) \n",
    "print(\"Best score is {}\".format(logreg_cv.best_score_))"
   ]
  },
  {
   "cell_type": "code",
   "execution_count": 41,
   "id": "hCL7G5Z8ayX8",
   "metadata": {
    "colab": {
     "base_uri": "https://localhost:8080/"
    },
    "id": "hCL7G5Z8ayX8",
    "outputId": "70718628-ce4d-4e2d-cd39-060ddbe5a1ce"
   },
   "outputs": [
    {
     "data": {
      "text/plain": [
       "LogisticRegression(C=0.05179474679231213, class_weight=None, dual=False,\n",
       "                   fit_intercept=True, intercept_scaling=1, l1_ratio=None,\n",
       "                   max_iter=100, multi_class='auto', n_jobs=None, penalty='l2',\n",
       "                   random_state=None, solver='lbfgs', tol=0.0001, verbose=0,\n",
       "                   warm_start=False)"
      ]
     },
     "execution_count": 41,
     "metadata": {},
     "output_type": "execute_result"
    }
   ],
   "source": [
    "model= LogisticRegression(C=0.05179474679231213)\n",
    "model.fit(train_s,y_train)"
   ]
  },
  {
   "cell_type": "code",
   "execution_count": 42,
   "id": "68d23be2",
   "metadata": {
    "colab": {
     "base_uri": "https://localhost:8080/",
     "height": 584
    },
    "id": "68d23be2",
    "outputId": "cfa02dab-ffae-4ac6-d88f-129565fa0ea6"
   },
   "outputs": [
    {
     "name": "stdout",
     "output_type": "stream",
     "text": [
      "Accuracy on training set :  0.7023677954939244\n",
      "Accuracy on test set :  0.6779401677834643\n",
      "Recall on training set :  0.6625813691211428\n",
      "Recall on test set :  0.6374452593257004\n",
      "Precision on training set :  0.7198629148407583\n",
      "Precision on test set :  0.6936215409346653\n",
      "log_loss on training set :  10.279955245770465\n",
      "log_loss on test set :  11.123665100004112\n"
     ]
    },
    {
     "data": {
      "image/png": "[encoded data removed]",
      "text/plain": [
       "<Figure size 720x504 with 2 Axes>"
      ]
     },
     "metadata": {
      "needs_background": "light"
     },
     "output_type": "display_data"
    }
   ],
   "source": [
    "get_metrics_score(model,train_s,test_s,y_train,y_test)\n",
    "\n",
    "# Creating confusion matrix\n",
    "make_confusion_matrix(model, y_test)"
   ]
  },
  {
   "cell_type": "markdown",
   "id": "mjvzjYAygi3N",
   "metadata": {
    "id": "mjvzjYAygi3N"
   },
   "source": [
    "**GridSearchCV(LGBM)**"
   ]
  },
  {
   "cell_type": "code",
   "execution_count": null,
   "id": "j2Ne74UwgQBK",
   "metadata": {
    "id": "j2Ne74UwgQBK"
   },
   "outputs": [],
   "source": [
    "%%time\n",
    "from lightgbm import LGBMClassifier\n",
    "params={'n_estimators':[100,500,1000],'learning_rate':[0.05,0.15,0.25]}\n",
    "model_lgbm= LGBMClassifier(colsample_bytree=0.8,\n",
    "               min_child_samples=50)\n",
    "\n",
    "model=GridSearchCV(estimator = model_lgbm, param_grid = params,\n",
    "                                    return_train_score=True, scoring = 'accuracy',\\\n",
    "                                    cv = 3,verbose=2,n_jobs=-1)\n",
    "model.fit(train_s,y_train)"
   ]
  },
  {
   "cell_type": "code",
   "execution_count": 43,
   "id": "NV3jKmPJxYQ1",
   "metadata": {
    "colab": {
     "base_uri": "https://localhost:8080/"
    },
    "id": "NV3jKmPJxYQ1",
    "outputId": "9813869f-96be-4870-fd96-1c802f23ef4d"
   },
   "outputs": [
    {
     "name": "stdout",
     "output_type": "stream",
     "text": [
      "CPU times: user 8min 51s, sys: 221 ms, total: 8min 51s\n",
      "Wall time: 2min 15s\n"
     ]
    }
   ],
   "source": [
    "%%time\n",
    "from lightgbm import LGBMClassifier\n",
    "lgbm_model = LGBMClassifier(n_estimators=900, learning_rate=0.15,max_depth=5,\n",
    "               num_leaves=31,subsample=0.9,colsample_bytree=0.8,\n",
    "               min_child_samples=50, n_jobs=-1)\n",
    "\n",
    "lgbm_model.fit(train_s, y_train)"
   ]
  },
  {
   "cell_type": "code",
   "execution_count": 44,
   "id": "5_O-tRXbZkfm",
   "metadata": {
    "colab": {
     "base_uri": "https://localhost:8080/",
     "height": 584
    },
    "id": "5_O-tRXbZkfm",
    "outputId": "d29d5d7c-3caf-4a25-f62e-1e1159169987"
   },
   "outputs": [
    {
     "name": "stdout",
     "output_type": "stream",
     "text": [
      "Accuracy on training set :  0.6884103236674968\n",
      "Accuracy on test set :  0.6791207196749854\n",
      "Recall on training set :  0.5939670255434737\n",
      "Recall on test set :  0.5871300058038306\n",
      "Precision on training set :  0.7322860438453738\n",
      "Precision on test set :  0.7195056899004267\n",
      "log_loss on training set :  10.762012972653922\n",
      "log_loss on test set :  11.082869222260308\n"
     ]
    },
    {
     "data": {
      "image/png": "[encoded data removed]",
      "text/plain": [
       "<Figure size 720x504 with 2 Axes>"
      ]
     },
     "metadata": {
      "needs_background": "light"
     },
     "output_type": "display_data"
    }
   ],
   "source": [
    "get_metrics_score(lgbm_model,train_s,test_s,y_train,y_test)\n",
    "\n",
    "# Creating confusion matrix\n",
    "make_confusion_matrix(lgbm_model, y_test)"
   ]
  },
  {
   "cell_type": "markdown",
   "id": "UEeO3AeVQT6a",
   "metadata": {
    "id": "UEeO3AeVQT6a"
   },
   "source": [
    "# SGD Classifier\n"
   ]
  },
  {
   "cell_type": "code",
   "execution_count": 45,
   "id": "q0PC3Mmqgc43",
   "metadata": {
    "colab": {
     "base_uri": "https://localhost:8080/"
    },
    "id": "q0PC3Mmqgc43",
    "outputId": "6aba3dd9-7911-44e8-b2e2-2dc240ad7865"
   },
   "outputs": [
    {
     "metadata": {
      "tags": null
     },
     "name": "stdout",
     "output_type": "stream",
     "text": [
      "Fitting 5 folds for each of 10 candidates, totalling 50 fits\n"
     ]
    },
    {
     "name": "stderr",
     "output_type": "stream",
     "text": [
      "[Parallel(n_jobs=-1)]: Using backend LokyBackend with 4 concurrent workers.\n",
      "[Parallel(n_jobs=-1)]: Done  33 tasks      | elapsed: 27.4min\n",
      "[Parallel(n_jobs=-1)]: Done  50 out of  50 | elapsed: 29.7min finished\n"
     ]
    },
    {
     "name": "stdout",
     "output_type": "stream",
     "text": [
      "CPU times: user 7.5 s, sys: 1.56 s, total: 9.05 s\n",
      "Wall time: 29min 43s\n"
     ]
    }
   ],
   "source": [
    "%%time\n",
    "from sklearn.linear_model import SGDClassifier\n",
    "parameters = {'alpha':[10**x for x in range(-5, 5)],\n",
    "              }\n",
    "model_lr_reg = SGDClassifier(loss = \"squared_loss\",fit_intercept=False,l1_ratio=0.6)\n",
    "model=GridSearchCV(estimator = model_lr_reg, param_grid = parameters,\n",
    "                                    return_train_score=True, scoring = 'accuracy',\\\n",
    "                                    cv = 5,verbose=2,n_jobs=-1)\n",
    "model.fit(train_s,y_train)"
   ]
  },
  {
   "cell_type": "code",
   "execution_count": 46,
   "id": "XD49Pcb5aTpP",
   "metadata": {
    "colab": {
     "base_uri": "https://localhost:8080/"
    },
    "id": "XD49Pcb5aTpP",
    "outputId": "bbfaf598-2431-4789-bc00-21a8f1cbbdcc"
   },
   "outputs": [
    {
     "data": {
      "text/plain": [
       "SGDClassifier(alpha=1e-05, average=False, class_weight=None,\n",
       "              early_stopping=False, epsilon=0.1, eta0=0.0, fit_intercept=True,\n",
       "              l1_ratio=0.15, learning_rate='optimal', loss='hinge',\n",
       "              max_iter=1000, n_iter_no_change=5, n_jobs=None, penalty='l2',\n",
       "              power_t=0.5, random_state=None, shuffle=True, tol=0.001,\n",
       "              validation_fraction=0.1, verbose=0, warm_start=False)"
      ]
     },
     "execution_count": 46,
     "metadata": {},
     "output_type": "execute_result"
    }
   ],
   "source": [
    "model=SGDClassifier(alpha=0.00001)\n",
    "model.fit(train_s,y_train)"
   ]
  },
  {
   "cell_type": "code",
   "execution_count": 47,
   "id": "20B2Idgd_Ah7",
   "metadata": {
    "colab": {
     "base_uri": "https://localhost:8080/",
     "height": 584
    },
    "id": "20B2Idgd_Ah7",
    "outputId": "aabed1d0-d746-4b66-9999-1f07f461f4ce"
   },
   "outputs": [
    {
     "name": "stdout",
     "output_type": "stream",
     "text": [
      "Accuracy on training set :  0.7666857929443821\n",
      "Accuracy on test set :  0.6718329552049808\n",
      "Recall on training set :  0.6883537927974018\n",
      "Recall on test set :  0.5827837281696829\n",
      "Precision on training set :  0.8162272131598087\n",
      "Precision on test set :  0.7090675653988124\n",
      "log_loss on training set :  8.058449188937065\n",
      "log_loss on test set :  11.334583779350103\n"
     ]
    },
    {
     "data": {
      "image/png": "[encoded data removed]",
      "text/plain": [
       "<Figure size 720x504 with 2 Axes>"
      ]
     },
     "metadata": {
      "needs_background": "light"
     },
     "output_type": "display_data"
    }
   ],
   "source": [
    "get_metrics_score(model,train_s,test_s,y_train,y_test)\n",
    "\n",
    "# Creating confusion matrix\n",
    "make_confusion_matrix(model, y_test)"
   ]
  },
  {
   "cell_type": "code",
   "execution_count": null,
   "id": "hF3XgpXYBtOw",
   "metadata": {
    "id": "hF3XgpXYBtOw"
   },
   "outputs": [],
   "source": []
  }
 ],
 "metadata": {
  "accelerator": "GPU",
  "colab": {
   "machine_shape": "hm",
   "name": "Machine_Learning_(1).ipynb",
   "provenance": []
  },
  "kernelspec": {
   "display_name": "Python 3.8 (tensorflow)",
   "language": "python",
   "name": "tensorflow"
  },
  "language_info": {
   "codemirror_mode": {
    "name": "ipython",
    "version": 3
   },
   "file_extension": ".py",
   "mimetype": "text/x-python",
   "name": "python",
   "nbconvert_exporter": "python",
   "pygments_lexer": "ipython3",
   "version": "3.8.10"
  }
 },
 "nbformat": 4,
 "nbformat_minor": 5
}
